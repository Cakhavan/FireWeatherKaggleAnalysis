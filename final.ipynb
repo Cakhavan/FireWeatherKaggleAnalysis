{
 "nbformat": 4,
 "nbformat_minor": 2,
 "metadata": {
  "language_info": {
   "name": "python",
   "codemirror_mode": {
    "name": "ipython",
    "version": 3
   },
   "version": "3.7.4-final"
  },
  "orig_nbformat": 2,
  "file_extension": ".py",
  "mimetype": "text/x-python",
  "name": "python",
  "npconvert_exporter": "python",
  "pygments_lexer": "ipython3",
  "version": 3,
  "kernelspec": {
   "name": "python37664bittestconda42a2969441114a6a9156acaea3a0c1c0",
   "display_name": "Python 3.7.6 64-bit ('test': conda)"
  }
 },
 "cells": [
  {
   "cell_type": "code",
   "execution_count": 5,
   "metadata": {},
   "outputs": [],
   "source": [
    "import pandas as pd\n",
    "import numpy as np\n",
    "import sqlite3\n",
    "from sklearn.model_selection import KFold\n",
    "import matplotlib.pyplot as plt\n",
    "import matplotlib\n",
    "from sklearn.preprocessing import OneHotEncoder\n",
    "from sklearn.preprocessing import LabelBinarizer\n",
    "import seaborn as sns\n",
    "\n",
    "from sklearn import datasets \n",
    "from sklearn.feature_selection import RFE \n",
    "from sklearn.linear_model import LogisticRegression\n",
    "\n",
    "from sklearn.feature_selection import RFECV\n",
    "from sklearn.model_selection import StratifiedKFold\n",
    "\n",
    "from sklearn.linear_model import LogisticRegressionCV\n",
    "from sklearn.model_selection import GridSearchCV\n",
    "from sklearn.model_selection import StratifiedKFold\n",
    "\n",
    "from sklearn import preprocessing\n",
    "\n",
    "from sklearn.preprocessing import StandardScaler\n",
    "from sklearn.preprocessing import Binarizer"
   ]
  },
  {
   "cell_type": "code",
   "execution_count": 100,
   "metadata": {},
   "outputs": [
    {
     "name": "stdout",
     "output_type": "stream",
     "text": "FIRE_YEAR STAT_CAUSE_DESCR   LATITUDE   LONGITUDE STATE COUNTY  FIPS_NAME  \\\n0       2005    Miscellaneous  40.036944 -121.005833    CA     63     Plumas   \n1       2004        Lightning  38.933056 -120.404444    CA     61     Placer   \n2       2004   Debris Burning  38.984167 -120.735556    CA     17  El Dorado   \n3       2004        Lightning  38.559167 -119.913333    CA      3     Alpine   \n4       2004        Lightning  38.559167 -119.933056    CA      3     Alpine   \n\n   DISCOVERY_DATE  FIRE_SIZE  DISCOVERY_DOY DISCOVERY_TIME       DATE  \n0       2453403.5       0.10             33           1300 2005-02-02  \n1       2453137.5       0.25            133           0845 2004-05-12  \n2       2453156.5       0.10            152           1921 2004-05-31  \n3       2453184.5       0.10            180           1600 2004-06-28  \n4       2453184.5       0.10            180           1600 2004-06-28  \n"
    }
   ],
   "source": [
    "# read lat/lng data into panda dataframe\n",
    "conn = sqlite3.connect('FPA_FOD_20170508.sqlite')\n",
    "\n",
    "# df = pd.read_sql_query(\"SELECT latitude, longitude FROM fires, STATE\", conn)\n",
    "df = pd.read_sql_query(\"SELECT FIRE_YEAR, STAT_CAUSE_DESCR, LATITUDE, LONGITUDE, STATE, COUNTY, FIPS_NAME, DISCOVERY_DATE, FIRE_SIZE, DISCOVERY_DOY, DISCOVERY_TIME FROM 'Fires'\", conn)\n",
    "df['DATE'] = pd.to_datetime(df['DISCOVERY_DATE'] - pd.Timestamp(0).to_julian_date(), unit='D')\n",
    "print(df.head())"
   ]
  },
  {
   "cell_type": "code",
   "execution_count": 101,
   "metadata": {},
   "outputs": [
    {
     "name": "stdout",
     "output_type": "stream",
     "text": "FIRE_YEAR   STAT_CAUSE_DESCR   LATITUDE   LONGITUDE STATE COUNTY  \\\n0             2005      Miscellaneous  40.036944 -121.005833    CA     63   \n1             2004          Lightning  38.933056 -120.404444    CA     61   \n2             2004     Debris Burning  38.984167 -120.735556    CA     17   \n3             2004          Lightning  38.559167 -119.913333    CA      3   \n4             2004          Lightning  38.559167 -119.933056    CA      3   \n...            ...                ...        ...         ...   ...    ...   \n1880460       2015  Missing/Undefined  40.481637 -122.389375    CA   None   \n1880461       2015      Miscellaneous  37.617619 -120.938570    CA   None   \n1880462       2015  Missing/Undefined  37.617619 -120.938570    CA   None   \n1880463       2015  Missing/Undefined  37.672235 -120.898356    CA   None   \n1880464       2015      Miscellaneous  34.263217 -116.830950    CA   None   \n\n         FIPS_NAME  DISCOVERY_DATE  FIRE_SIZE  DISCOVERY_DOY DISCOVERY_TIME  \\\n0           Plumas       2453403.5       0.10             33           1300   \n1           Placer       2453137.5       0.25            133           0845   \n2        El Dorado       2453156.5       0.10            152           1921   \n3           Alpine       2453184.5       0.10            180           1600   \n4           Alpine       2453184.5       0.10            180           1600   \n...            ...             ...        ...            ...            ...   \n1880460       None       2457291.5       0.01            269           1726   \n1880461       None       2457300.5       0.20            278           0126   \n1880462       None       2457144.5       0.10            122           2052   \n1880463       None       2457309.5       2.00            287           2309   \n1880464       None       2457095.5       0.10             73           2128   \n\n              DATE TIME       DATETIME  \n0       2005-02-02   13  2005-02-02 13  \n1       2004-05-12   08  2004-05-12 08  \n2       2004-05-31   19  2004-05-31 19  \n3       2004-06-28   16  2004-06-28 16  \n4       2004-06-28   16  2004-06-28 16  \n...            ...  ...            ...  \n1880460 2015-09-26   17  2015-09-26 17  \n1880461 2015-10-05   01  2015-10-05 01  \n1880462 2015-05-02   20  2015-05-02 20  \n1880463 2015-10-14   23  2015-10-14 23  \n1880464 2015-03-14   21  2015-03-14 21  \n\n[1880465 rows x 14 columns]\n"
    }
   ],
   "source": [
    "df['TIME'] = df['DISCOVERY_TIME'].str[0:2]\n",
    "df['DATETIME'] = df['DATE'].dt.strftime('%Y-%m-%d') + ' ' +  df['TIME']\n",
    "print(df)"
   ]
  },
  {
   "cell_type": "code",
   "execution_count": 102,
   "metadata": {},
   "outputs": [
    {
     "name": "stdout",
     "output_type": "stream",
     "text": "FIRE_YEAR   STAT_CAUSE_DESCR   LATITUDE   LONGITUDE STATE COUNTY  \\\n1635454       2013      Miscellaneous  40.391944 -123.061944    CA    105   \n1635455       2013      Miscellaneous  38.858056 -120.762222    CA    017   \n1635456       2013          Lightning  45.786667 -114.386944    MT    081   \n1635457       2013          Lightning  39.152222 -120.233333    CA    061   \n1635458       2013          Lightning  37.691667 -108.621944    CO    083   \n...            ...                ...        ...         ...   ...    ...   \n1880460       2015  Missing/Undefined  40.481637 -122.389375    CA   None   \n1880461       2015      Miscellaneous  37.617619 -120.938570    CA   None   \n1880462       2015  Missing/Undefined  37.617619 -120.938570    CA   None   \n1880463       2015  Missing/Undefined  37.672235 -120.898356    CA   None   \n1880464       2015      Miscellaneous  34.263217 -116.830950    CA   None   \n\n         FIPS_NAME  DISCOVERY_DATE  FIRE_SIZE  DISCOVERY_DOY DISCOVERY_TIME  \\\n1635454    Trinity       2456422.5       0.10            130           1353   \n1635455  El Dorado       2456310.5       0.10             18           0900   \n1635456    Ravalli       2456507.5       0.10            215           1043   \n1635457     Placer       2456476.5       0.10            184           1929   \n1635458  Montezuma       2456525.5       0.10            233           0822   \n...            ...             ...        ...            ...            ...   \n1880460       None       2457291.5       0.01            269           1726   \n1880461       None       2457300.5       0.20            278           0126   \n1880462       None       2457144.5       0.10            122           2052   \n1880463       None       2457309.5       2.00            287           2309   \n1880464       None       2457095.5       0.10             73           2128   \n\n              DATE TIME       DATETIME  \n1635454 2013-05-10   13  2013-05-10 13  \n1635455 2013-01-18   09  2013-01-18 09  \n1635456 2013-08-03   10  2013-08-03 10  \n1635457 2013-07-03   19  2013-07-03 19  \n1635458 2013-08-21   08  2013-08-21 08  \n...            ...  ...            ...  \n1880460 2015-09-26   17  2015-09-26 17  \n1880461 2015-10-05   01  2015-10-05 01  \n1880462 2015-05-02   20  2015-05-02 20  \n1880463 2015-10-14   23  2015-10-14 23  \n1880464 2015-03-14   21  2015-03-14 21  \n\n[207024 rows x 14 columns]\n"
    }
   ],
   "source": [
    "df = df[df['FIRE_YEAR'] > 2012]\n",
    "print(df)"
   ]
  },
  {
   "cell_type": "code",
   "execution_count": 7,
   "metadata": {},
   "outputs": [],
   "source": [
    "# df_fire = pd.read_csv('California_Fire_Incidents.csv')\n",
    "df_humidity = pd.read_csv('humidity.csv')\n",
    "df_pressure = pd.read_csv('pressure.csv')\n",
    "df_temp = pd.read_csv('temperature.csv')\n",
    "df_weather = pd.read_csv('weather_description.csv')\n",
    "df_wind_direction = pd.read_csv('wind_direction.csv')\n",
    "df_wind_speed = pd.read_csv('wind_speed.csv')\n",
    "df_city_attributes = pd.read_csv('city_attributes.csv')"
   ]
  },
  {
   "cell_type": "code",
   "execution_count": 8,
   "metadata": {},
   "outputs": [],
   "source": [
    "cities = df_humidity.columns.drop(['Jerusalem', 'Haifa', 'Eilat', 'Tel Aviv District', 'Beersheba', 'Nahariyya'])\n",
    "df_humidity = df_humidity[cities]\n",
    "df_pressure = df_pressure[cities]\n",
    "df_temp = df_temp[cities]\n",
    "df_weather = df_weather[cities]\n",
    "df_wind_direction = df_wind_direction[cities]\n",
    "df_wind_speed = df_wind_speed[cities]\n",
    "# df_city_attributes = df_city_attributes[cities]"
   ]
  },
  {
   "cell_type": "code",
   "execution_count": 131,
   "metadata": {},
   "outputs": [
    {
     "name": "stdout",
     "output_type": "stream",
     "text": "datetime  Vancouver  Portland  San Francisco  Seattle  \\\n0      2012-10-01 13:00:00       76.0      81.0           88.0     81.0   \n1      2012-10-01 14:00:00       76.0      80.0           87.0     80.0   \n2      2012-10-01 15:00:00       76.0      80.0           86.0     80.0   \n3      2012-10-01 16:00:00       77.0      80.0           85.0     79.0   \n4      2012-10-01 17:00:00       78.0      79.0           84.0     79.0   \n...                    ...        ...       ...            ...      ...   \n45247  2017-11-29 20:00:00        NaN      81.0            NaN     93.0   \n45248  2017-11-29 21:00:00        NaN      71.0            NaN     87.0   \n45249  2017-11-29 22:00:00        NaN      71.0            NaN     93.0   \n45250  2017-11-29 23:00:00        NaN      71.0            NaN     87.0   \n45251  2017-11-30 00:00:00        NaN      76.0            NaN     75.0   \n\n       Los Angeles  San Diego  Las Vegas  Phoenix  Albuquerque  ...  Detroit  \\\n0             88.0       82.0       22.0     23.0         50.0  ...     76.0   \n1             88.0       81.0       21.0     23.0         49.0  ...     75.0   \n2             88.0       81.0       21.0     23.0         49.0  ...     75.0   \n3             88.0       81.0       21.0     23.0         49.0  ...     74.0   \n4             88.0       80.0       21.0     24.0         49.0  ...     74.0   \n...            ...        ...        ...      ...          ...  ...      ...   \n45247         24.0       72.0       18.0     68.0         37.0  ...     39.0   \n45248         21.0       72.0       18.0     73.0         34.0  ...     39.0   \n45249         23.0       68.0       17.0     60.0         32.0  ...     42.0   \n45250         14.0       63.0       17.0     33.0         30.0  ...     52.0   \n45251         56.0       72.0       17.0     23.0         34.0  ...     56.0   \n\n       Jacksonville  Charlotte  Miami  Pittsburgh  Toronto  Philadelphia  \\\n0              88.0       87.0   83.0        93.0     82.0          71.0   \n1              87.0       87.0   82.0        93.0     81.0          70.0   \n2              87.0       87.0   82.0        93.0     79.0          70.0   \n3              87.0       87.0   82.0        93.0     77.0          69.0   \n4              86.0       87.0   81.0        93.0     76.0          69.0   \n...             ...        ...    ...         ...      ...           ...   \n45247          47.0       21.0    NaN        20.0     45.0          27.0   \n45248          47.0       21.0    NaN        23.0     48.0          29.0   \n45249          53.0       24.0    NaN        27.0     52.0          31.0   \n45250          73.0       38.0    NaN        36.0     64.0          26.0   \n45251          88.0       41.0    NaN        42.0     60.0          32.0   \n\n       New York  Montreal  Boston  \n0          58.0      93.0    68.0  \n1          57.0      91.0    68.0  \n2          57.0      87.0    68.0  \n3          57.0      84.0    68.0  \n4          57.0      80.0    68.0  \n...         ...       ...     ...  \n45247       NaN      64.0    37.0  \n45248       NaN      59.0    74.0  \n45249       NaN      66.0    74.0  \n45250       NaN      58.0    56.0  \n45251       NaN      58.0    56.0  \n\n[45252 rows x 31 columns]\n"
    }
   ],
   "source": [
    "print(df_humidity)"
   ]
  },
  {
   "cell_type": "code",
   "execution_count": 217,
   "metadata": {},
   "outputs": [],
   "source": [
    "common_cities = []\n",
    "for city in cities:\n",
    "    if(len(df.loc[df['FIPS_NAME']==city]) != 0):\n",
    "        common_cities.append(city)"
   ]
  },
  {
   "cell_type": "code",
   "execution_count": 218,
   "metadata": {},
   "outputs": [],
   "source": [
    "df = df[df['FIPS_NAME'].isin(common_cities)]"
   ]
  },
  {
   "cell_type": "code",
   "execution_count": 192,
   "metadata": {},
   "outputs": [],
   "source": [
    "columns = ['time', 'humidity', 'pressure', 'temperature', 'weather', 'wind direction', 'wind speed']\n",
    "df_weatherdata = pd.DataFrame()\n",
    "for city in common_cities:\n",
    "    newdf = pd.DataFrame(pd.concat([df_humidity['datetime'], df_humidity[city], df_pressure[city], df_temp[city], df_weather[city], df_wind_direction[city], df_wind_speed[city]], axis=1, keys=columns))\n",
    "    newdf['city'] = city\n",
    "    df_weatherdata = df_weatherdata.append(newdf, ignore_index=True)"
   ]
  },
  {
   "cell_type": "code",
   "execution_count": 193,
   "metadata": {},
   "outputs": [
    {
     "name": "stdout",
     "output_type": "stream",
     "text": "0         San Francisco\n1         San Francisco\n2         San Francisco\n3         San Francisco\n4         San Francisco\n              ...      \n407263         New York\n407264         New York\n407265         New York\n407266         New York\n407267         New York\nName: city, Length: 407268, dtype: object\n"
    }
   ],
   "source": [
    "print(df_weatherdata['city'])"
   ]
  },
  {
   "cell_type": "code",
   "execution_count": 194,
   "metadata": {},
   "outputs": [
    {
     "name": "stdout",
     "output_type": "stream",
     "text": "0         2012-10-01 13\n1         2012-10-01 14\n2         2012-10-01 15\n3         2012-10-01 16\n4         2012-10-01 17\n              ...      \n407263    2017-11-29 20\n407264    2017-11-29 21\n407265    2017-11-29 22\n407266    2017-11-29 23\n407267    2017-11-30 00\nName: DATETIME, Length: 407268, dtype: object\n"
    }
   ],
   "source": [
    "df_weatherdata['DATE'] = df_weatherdata['time'].str[0:11]\n",
    "df_weatherdata['TIME'] = df_weatherdata['time'].str.split(\":\").str[0].str[11:]\n",
    "df_weatherdata['DATETIME'] = df_weatherdata['DATE'] + df_weatherdata['TIME']\n",
    "print(df_weatherdata['DATETIME'])"
   ]
  },
  {
   "cell_type": "code",
   "execution_count": 214,
   "metadata": {},
   "outputs": [
    {
     "name": "stdout",
     "output_type": "stream",
     "text": "0         2012-10-01 13 San Francisco\n1         2012-10-01 14 San Francisco\n2         2012-10-01 15 San Francisco\n3         2012-10-01 16 San Francisco\n4         2012-10-01 17 San Francisco\n                     ...             \n407263         2017-11-29 20 New York\n407264         2017-11-29 21 New York\n407265         2017-11-29 22 New York\n407266         2017-11-29 23 New York\n407267         2017-11-30 00 New York\nName: DATETIME_CITY, Length: 407268, dtype: object\n"
    }
   ],
   "source": [
    "df_weatherdata['DATETIME_CITY'] = df_weatherdata['DATETIME'] + ' ' + df_weatherdata['city']\n",
    "print(df_weatherdata['DATETIME_CITY'])"
   ]
  },
  {
   "cell_type": "code",
   "execution_count": 219,
   "metadata": {},
   "outputs": [
    {
     "name": "stdout",
     "output_type": "stream",
     "text": "1635479    2013-08-14 14 Los Angeles\n1635500      2013-02-14 16 San Diego\n1635530    2013-07-30 13 Los Angeles\n1635568    2013-06-02 21 Los Angeles\n1635576      2013-09-08 23 San Diego\n                     ...            \n1872185      2015-11-28 15 San Diego\n1872229      2015-12-29 17 San Diego\n1872237    2015-11-04 14 Los Angeles\n1872244      2015-10-13 03 San Diego\n1872247      2015-12-09 16 San Diego\nName: DATETIME_CITY, Length: 2933, dtype: object\n"
    }
   ],
   "source": [
    "df['DATETIME_CITY'] = df['DATETIME'] + ' ' + df['FIPS_NAME']\n",
    "print(df['DATETIME_CITY'])"
   ]
  },
  {
   "cell_type": "code",
   "execution_count": 195,
   "metadata": {},
   "outputs": [
    {
     "name": "stdout",
     "output_type": "stream",
     "text": "false\n"
    }
   ],
   "source": [
    "if df_weatherdata['DATETIME'][0] in (df['DATETIME']):\n",
    "    print('true')\n",
    "else:\n",
    "    print('false')\n",
    "# print(df['DATETIME'])"
   ]
  },
  {
   "cell_type": "code",
   "execution_count": 211,
   "metadata": {},
   "outputs": [
    {
     "name": "stdout",
     "output_type": "stream",
     "text": "2013-08-03 10\n2013-08-03 10\n(array([    2,  3519,  5633,  6084,  9170,  9794, 14878, 19667, 23423,\n       33748]),)\n"
    }
   ],
   "source": [
    "print(df_weatherdata['DATETIME'][1+7340])\n",
    "print(df['DATETIME'].values[2])\n",
    "if df_weatherdata['DATETIME'][1+7340] in (df['DATETIME'].values):\n",
    "    print(np.where(df['DATETIME'].values == (df_weatherdata['DATETIME'][1+7340])))"
   ]
  },
  {
   "cell_type": "code",
   "execution_count": 224,
   "metadata": {},
   "outputs": [],
   "source": [
    "df_weatherdata['FIRE'] = False"
   ]
  },
  {
   "cell_type": "code",
   "execution_count": 227,
   "metadata": {},
   "outputs": [],
   "source": [
    "df_weatherdata['FIRE'][df_weatherdata.loc[df_weatherdata['DATETIME_CITY'].isin(df['DATETIME_CITY'].values)].index] = True"
   ]
  },
  {
   "cell_type": "code",
   "execution_count": 231,
   "metadata": {},
   "outputs": [
    {
     "name": "stdout",
     "output_type": "stream",
     "text": "time  humidity  pressure  temperature  \\\n14176   2014-05-15 05:00:00      69.0    1017.0   294.270000   \n14221   2014-05-17 02:00:00       NaN    1014.0   292.180000   \n20087   2015-01-16 12:00:00     100.0    1038.0   282.415000   \n21515   2015-03-17 00:00:00      77.0    1030.0   289.181500   \n24145   2015-07-04 14:00:00      87.0    1012.0   289.090000   \n...                     ...       ...       ...          ...   \n389506  2015-11-20 23:00:00      45.0    1025.0   282.632909   \n389739  2015-11-30 16:00:00      60.0    1030.0   276.642214   \n389810  2015-12-03 15:00:00      66.0    1011.0   281.390000   \n389859  2015-12-05 16:00:00      65.0    1039.0   280.294636   \n390247  2015-12-21 20:00:00      53.0    1025.0   283.583269   \n\n                     weather  wind direction  wind speed           city  \\\n14176           sky is clear           271.0         2.0  San Francisco   \n14221                   haze           334.0         1.0  San Francisco   \n20087          broken clouds           219.0         1.0  San Francisco   \n21515        overcast clouds           288.0         1.0  San Francisco   \n24145                    fog           290.0         3.0  San Francisco   \n...                      ...             ...         ...            ...   \n389506  heavy intensity rain           312.0         4.0       New York   \n389739         broken clouds            25.0         6.0       New York   \n389810      scattered clouds           270.0         5.0       New York   \n389859          sky is clear            15.0         1.0       New York   \n390247       overcast clouds           223.0         4.0       New York   \n\n               DATE TIME       DATETIME                DATETIME_CITY  FIRE  \n14176   2014-05-15    05  2014-05-15 05  2014-05-15 05 San Francisco  True  \n14221   2014-05-17    02  2014-05-17 02  2014-05-17 02 San Francisco  True  \n20087   2015-01-16    12  2015-01-16 12  2015-01-16 12 San Francisco  True  \n21515   2015-03-17    00  2015-03-17 00  2015-03-17 00 San Francisco  True  \n24145   2015-07-04    14  2015-07-04 14  2015-07-04 14 San Francisco  True  \n...             ...  ...            ...                          ...   ...  \n389506  2015-11-20    23  2015-11-20 23       2015-11-20 23 New York  True  \n389739  2015-11-30    16  2015-11-30 16       2015-11-30 16 New York  True  \n389810  2015-12-03    15  2015-12-03 15       2015-12-03 15 New York  True  \n389859  2015-12-05    16  2015-12-05 16       2015-12-05 16 New York  True  \n390247  2015-12-21    20  2015-12-21 20       2015-12-21 20 New York  True  \n\n[1715 rows x 13 columns]\n"
    }
   ],
   "source": [
    "print(df_weatherdata.loc[df_weatherdata['FIRE'] == True])"
   ]
  },
  {
   "cell_type": "code",
   "execution_count": null,
   "metadata": {},
   "outputs": [],
   "source": []
  }
 ]
}