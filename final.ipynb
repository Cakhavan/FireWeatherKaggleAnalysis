{
 "nbformat": 4,
 "nbformat_minor": 2,
 "metadata": {
  "language_info": {
   "name": "python",
   "codemirror_mode": {
    "name": "ipython",
    "version": 3
   },
   "version": "3.7.4-final"
  },
  "orig_nbformat": 2,
  "file_extension": ".py",
  "mimetype": "text/x-python",
  "name": "python",
  "npconvert_exporter": "python",
  "pygments_lexer": "ipython3",
  "version": 3,
  "kernelspec": {
   "name": "python37664bittestconda42a2969441114a6a9156acaea3a0c1c0",
   "display_name": "Python 3.7.6 64-bit ('test': conda)"
  }
 },
 "cells": [
  {
   "cell_type": "code",
   "execution_count": 327,
   "metadata": {},
   "outputs": [],
   "source": [
    "import pandas as pd\n",
    "import numpy as np\n",
    "import sqlite3\n",
    "from sklearn.model_selection import KFold\n",
    "import matplotlib.pyplot as plt\n",
    "import matplotlib\n",
    "from sklearn.preprocessing import OneHotEncoder\n",
    "from sklearn.preprocessing import LabelBinarizer\n",
    "import seaborn as sns\n",
    "\n",
    "from sklearn import datasets \n",
    "from sklearn.feature_selection import RFE \n",
    "from sklearn.linear_model import LogisticRegression\n",
    "\n",
    "from sklearn.feature_selection import RFECV\n",
    "from sklearn.model_selection import StratifiedKFold\n",
    "\n",
    "from sklearn.linear_model import LogisticRegressionCV\n",
    "from sklearn.model_selection import GridSearchCV\n",
    "from sklearn.model_selection import StratifiedKFold\n",
    "\n",
    "from sklearn import preprocessing\n",
    "\n",
    "from sklearn.preprocessing import StandardScaler\n",
    "from sklearn.preprocessing import Binarizer"
   ]
  },
  {
   "cell_type": "code",
   "execution_count": 328,
   "metadata": {},
   "outputs": [
    {
     "name": "stdout",
     "output_type": "stream",
     "text": "FIRE_YEAR STAT_CAUSE_DESCR   LATITUDE   LONGITUDE STATE COUNTY  FIPS_NAME  \\\n0       2005    Miscellaneous  40.036944 -121.005833    CA     63     Plumas   \n1       2004        Lightning  38.933056 -120.404444    CA     61     Placer   \n2       2004   Debris Burning  38.984167 -120.735556    CA     17  El Dorado   \n3       2004        Lightning  38.559167 -119.913333    CA      3     Alpine   \n4       2004        Lightning  38.559167 -119.933056    CA      3     Alpine   \n\n   DISCOVERY_DATE  FIRE_SIZE  DISCOVERY_DOY DISCOVERY_TIME       DATE  \n0       2453403.5       0.10             33           1300 2005-02-02  \n1       2453137.5       0.25            133           0845 2004-05-12  \n2       2453156.5       0.10            152           1921 2004-05-31  \n3       2453184.5       0.10            180           1600 2004-06-28  \n4       2453184.5       0.10            180           1600 2004-06-28  \n"
    }
   ],
   "source": [
    "# read lat/lng data into panda dataframe\n",
    "conn = sqlite3.connect('FPA_FOD_20170508.sqlite')\n",
    "\n",
    "# df = pd.read_sql_query(\"SELECT latitude, longitude FROM fires, STATE\", conn)\n",
    "df = pd.read_sql_query(\"SELECT FIRE_YEAR, STAT_CAUSE_DESCR, LATITUDE, LONGITUDE, STATE, COUNTY, FIPS_NAME, DISCOVERY_DATE, FIRE_SIZE, DISCOVERY_DOY, DISCOVERY_TIME FROM 'Fires'\", conn)\n",
    "df['DATE'] = pd.to_datetime(df['DISCOVERY_DATE'] - pd.Timestamp(0).to_julian_date(), unit='D')\n",
    "print(df.head())"
   ]
  },
  {
   "cell_type": "code",
   "execution_count": 329,
   "metadata": {},
   "outputs": [
    {
     "name": "stdout",
     "output_type": "stream",
     "text": "FIRE_YEAR   STAT_CAUSE_DESCR   LATITUDE   LONGITUDE STATE COUNTY  \\\n0             2005      Miscellaneous  40.036944 -121.005833    CA     63   \n1             2004          Lightning  38.933056 -120.404444    CA     61   \n2             2004     Debris Burning  38.984167 -120.735556    CA     17   \n3             2004          Lightning  38.559167 -119.913333    CA      3   \n4             2004          Lightning  38.559167 -119.933056    CA      3   \n...            ...                ...        ...         ...   ...    ...   \n1880460       2015  Missing/Undefined  40.481637 -122.389375    CA   None   \n1880461       2015      Miscellaneous  37.617619 -120.938570    CA   None   \n1880462       2015  Missing/Undefined  37.617619 -120.938570    CA   None   \n1880463       2015  Missing/Undefined  37.672235 -120.898356    CA   None   \n1880464       2015      Miscellaneous  34.263217 -116.830950    CA   None   \n\n         FIPS_NAME  DISCOVERY_DATE  FIRE_SIZE  DISCOVERY_DOY DISCOVERY_TIME  \\\n0           Plumas       2453403.5       0.10             33           1300   \n1           Placer       2453137.5       0.25            133           0845   \n2        El Dorado       2453156.5       0.10            152           1921   \n3           Alpine       2453184.5       0.10            180           1600   \n4           Alpine       2453184.5       0.10            180           1600   \n...            ...             ...        ...            ...            ...   \n1880460       None       2457291.5       0.01            269           1726   \n1880461       None       2457300.5       0.20            278           0126   \n1880462       None       2457144.5       0.10            122           2052   \n1880463       None       2457309.5       2.00            287           2309   \n1880464       None       2457095.5       0.10             73           2128   \n\n              DATE TIME       DATETIME  \n0       2005-02-02   13  2005-02-02 13  \n1       2004-05-12   08  2004-05-12 08  \n2       2004-05-31   19  2004-05-31 19  \n3       2004-06-28   16  2004-06-28 16  \n4       2004-06-28   16  2004-06-28 16  \n...            ...  ...            ...  \n1880460 2015-09-26   17  2015-09-26 17  \n1880461 2015-10-05   01  2015-10-05 01  \n1880462 2015-05-02   20  2015-05-02 20  \n1880463 2015-10-14   23  2015-10-14 23  \n1880464 2015-03-14   21  2015-03-14 21  \n\n[1880465 rows x 14 columns]\n"
    }
   ],
   "source": [
    "df['TIME'] = df['DISCOVERY_TIME'].str[0:2]\n",
    "df['DATETIME'] = df['DATE'].dt.strftime('%Y-%m-%d') + ' ' +  df['TIME']\n",
    "print(df)"
   ]
  },
  {
   "cell_type": "code",
   "execution_count": 330,
   "metadata": {},
   "outputs": [
    {
     "name": "stdout",
     "output_type": "stream",
     "text": "FIRE_YEAR   STAT_CAUSE_DESCR   LATITUDE   LONGITUDE STATE COUNTY  \\\n1563819       2012           Campfire  45.991944 -113.471389    MT    039   \n1563820       2012           Campfire  45.946667 -112.366111    MT    043   \n1563821       2012           Campfire  45.418611 -111.855833    MT    057   \n1563822       2012           Campfire  46.219167 -112.243333    MT    093   \n1563823       2012          Lightning  44.942222 -113.458611    MT    001   \n...            ...                ...        ...         ...   ...    ...   \n1880460       2015  Missing/Undefined  40.481637 -122.389375    CA   None   \n1880461       2015      Miscellaneous  37.617619 -120.938570    CA   None   \n1880462       2015  Missing/Undefined  37.617619 -120.938570    CA   None   \n1880463       2015  Missing/Undefined  37.672235 -120.898356    CA   None   \n1880464       2015      Miscellaneous  34.263217 -116.830950    CA   None   \n\n          FIPS_NAME  DISCOVERY_DATE  FIRE_SIZE  DISCOVERY_DOY DISCOVERY_TIME  \\\n1563819     Granite       2456172.5       0.10            246           1300   \n1563820   Jefferson       2456062.5       0.10            136           1517   \n1563821     Madison       2456034.5       0.01            108           1844   \n1563822  Silver Bow       2456237.5       0.10            311           1402   \n1563823  Beaverhead       2456152.5       0.10            226           0828   \n...             ...             ...        ...            ...            ...   \n1880460        None       2457291.5       0.01            269           1726   \n1880461        None       2457300.5       0.20            278           0126   \n1880462        None       2457144.5       0.10            122           2052   \n1880463        None       2457309.5       2.00            287           2309   \n1880464        None       2457095.5       0.10             73           2128   \n\n              DATE TIME       DATETIME  \n1563819 2012-09-02   13  2012-09-02 13  \n1563820 2012-05-15   15  2012-05-15 15  \n1563821 2012-04-17   18  2012-04-17 18  \n1563822 2012-11-06   14  2012-11-06 14  \n1563823 2012-08-13   08  2012-08-13 08  \n...            ...  ...            ...  \n1880460 2015-09-26   17  2015-09-26 17  \n1880461 2015-10-05   01  2015-10-05 01  \n1880462 2015-05-02   20  2015-05-02 20  \n1880463 2015-10-14   23  2015-10-14 23  \n1880464 2015-03-14   21  2015-03-14 21  \n\n[279793 rows x 14 columns]\n"
    }
   ],
   "source": [
    "df = df[df['FIRE_YEAR'] >= 2012]\n",
    "print(df)"
   ]
  },
  {
   "cell_type": "code",
   "execution_count": 331,
   "metadata": {},
   "outputs": [],
   "source": [
    "# df_fire = pd.read_csv('California_Fire_Incidents.csv')\n",
    "df_humidity = pd.read_csv('humidity.csv')\n",
    "df_pressure = pd.read_csv('pressure.csv')\n",
    "df_temp = pd.read_csv('temperature.csv')\n",
    "df_weather = pd.read_csv('weather_description.csv')\n",
    "df_wind_direction = pd.read_csv('wind_direction.csv')\n",
    "df_wind_speed = pd.read_csv('wind_speed.csv')\n",
    "df_city_attributes = pd.read_csv('city_attributes.csv')"
   ]
  },
  {
   "cell_type": "code",
   "execution_count": 332,
   "metadata": {},
   "outputs": [],
   "source": [
    "cities = df_humidity.columns.drop(['Jerusalem', 'Haifa', 'Eilat', 'Tel Aviv District', 'Beersheba', 'Nahariyya'])\n",
    "df_humidity = df_humidity[cities]\n",
    "df_pressure = df_pressure[cities]\n",
    "df_temp = df_temp[cities]\n",
    "df_weather = df_weather[cities]\n",
    "df_wind_direction = df_wind_direction[cities]\n",
    "df_wind_speed = df_wind_speed[cities]\n",
    "# df_city_attributes = df_city_attributes[cities]"
   ]
  },
  {
   "cell_type": "code",
   "execution_count": 333,
   "metadata": {},
   "outputs": [
    {
     "name": "stdout",
     "output_type": "stream",
     "text": "datetime  Vancouver  Portland  San Francisco  Seattle  \\\n0      2012-10-01 13:00:00       76.0      81.0           88.0     81.0   \n1      2012-10-01 14:00:00       76.0      80.0           87.0     80.0   \n2      2012-10-01 15:00:00       76.0      80.0           86.0     80.0   \n3      2012-10-01 16:00:00       77.0      80.0           85.0     79.0   \n4      2012-10-01 17:00:00       78.0      79.0           84.0     79.0   \n...                    ...        ...       ...            ...      ...   \n45247  2017-11-29 20:00:00        NaN      81.0            NaN     93.0   \n45248  2017-11-29 21:00:00        NaN      71.0            NaN     87.0   \n45249  2017-11-29 22:00:00        NaN      71.0            NaN     93.0   \n45250  2017-11-29 23:00:00        NaN      71.0            NaN     87.0   \n45251  2017-11-30 00:00:00        NaN      76.0            NaN     75.0   \n\n       Los Angeles  San Diego  Las Vegas  Phoenix  Albuquerque  ...  Detroit  \\\n0             88.0       82.0       22.0     23.0         50.0  ...     76.0   \n1             88.0       81.0       21.0     23.0         49.0  ...     75.0   \n2             88.0       81.0       21.0     23.0         49.0  ...     75.0   \n3             88.0       81.0       21.0     23.0         49.0  ...     74.0   \n4             88.0       80.0       21.0     24.0         49.0  ...     74.0   \n...            ...        ...        ...      ...          ...  ...      ...   \n45247         24.0       72.0       18.0     68.0         37.0  ...     39.0   \n45248         21.0       72.0       18.0     73.0         34.0  ...     39.0   \n45249         23.0       68.0       17.0     60.0         32.0  ...     42.0   \n45250         14.0       63.0       17.0     33.0         30.0  ...     52.0   \n45251         56.0       72.0       17.0     23.0         34.0  ...     56.0   \n\n       Jacksonville  Charlotte  Miami  Pittsburgh  Toronto  Philadelphia  \\\n0              88.0       87.0   83.0        93.0     82.0          71.0   \n1              87.0       87.0   82.0        93.0     81.0          70.0   \n2              87.0       87.0   82.0        93.0     79.0          70.0   \n3              87.0       87.0   82.0        93.0     77.0          69.0   \n4              86.0       87.0   81.0        93.0     76.0          69.0   \n...             ...        ...    ...         ...      ...           ...   \n45247          47.0       21.0    NaN        20.0     45.0          27.0   \n45248          47.0       21.0    NaN        23.0     48.0          29.0   \n45249          53.0       24.0    NaN        27.0     52.0          31.0   \n45250          73.0       38.0    NaN        36.0     64.0          26.0   \n45251          88.0       41.0    NaN        42.0     60.0          32.0   \n\n       New York  Montreal  Boston  \n0          58.0      93.0    68.0  \n1          57.0      91.0    68.0  \n2          57.0      87.0    68.0  \n3          57.0      84.0    68.0  \n4          57.0      80.0    68.0  \n...         ...       ...     ...  \n45247       NaN      64.0    37.0  \n45248       NaN      59.0    74.0  \n45249       NaN      66.0    74.0  \n45250       NaN      58.0    56.0  \n45251       NaN      58.0    56.0  \n\n[45252 rows x 31 columns]\n"
    }
   ],
   "source": [
    "print(df_humidity)"
   ]
  },
  {
   "cell_type": "code",
   "execution_count": 334,
   "metadata": {},
   "outputs": [],
   "source": [
    "common_cities = []\n",
    "for city in cities:\n",
    "    if(len(df.loc[df['FIPS_NAME']==city]) != 0):\n",
    "        common_cities.append(city)"
   ]
  },
  {
   "cell_type": "code",
   "execution_count": 335,
   "metadata": {},
   "outputs": [
    {
     "name": "stdout",
     "output_type": "stream",
     "text": "FIRE_YEAR   STAT_CAUSE_DESCR   LATITUDE   LONGITUDE STATE  \\\n1567432       2012      Miscellaneous  34.204167 -117.808333    CA   \n1567433       2012          Lightning  34.345278 -117.928889    CA   \n1567434       2012      Miscellaneous  34.548056 -118.671667    CA   \n1567436       2012      Equipment Use  34.489444 -118.285833    CA   \n1567437       2012           Children  34.467778 -118.530833    CA   \n...            ...                ...        ...         ...   ...   \n1872185       2015  Missing/Undefined  33.387140 -117.174866    CA   \n1872229       2015     Debris Burning  33.226976 -117.024311    CA   \n1872237       2015  Missing/Undefined  34.666666 -118.766666    CA   \n1872244       2015  Missing/Undefined  33.388859 -117.255707    CA   \n1872247       2015     Debris Burning  33.243255 -117.241177    CA   \n\n              COUNTY    FIPS_NAME  DISCOVERY_DATE  FIRE_SIZE  DISCOVERY_DOY  \\\n1567432          037  Los Angeles       2456104.5       0.10            178   \n1567433          037  Los Angeles       2456180.5       0.10            254   \n1567434          037  Los Angeles       2456236.5       0.25            310   \n1567436          037  Los Angeles       2456106.5       0.10            180   \n1567437          037  Los Angeles       2456099.5       0.60            173   \n...              ...          ...             ...        ...            ...   \n1872185    SAN DIEGO    San Diego       2457354.5       0.10            332   \n1872229    SAN DIEGO    San Diego       2457385.5       0.10            363   \n1872237  LOS ANGELES  Los Angeles       2457330.5       0.12            308   \n1872244    SAN DIEGO    San Diego       2457308.5       0.25            286   \n1872247    SAN DIEGO    San Diego       2457365.5       0.10            343   \n\n        DISCOVERY_TIME       DATE TIME       DATETIME  \n1567432           1030 2012-06-26   10  2012-06-26 10  \n1567433           1010 2012-09-10   10  2012-09-10 10  \n1567434           1349 2012-11-05   13  2012-11-05 13  \n1567436           1020 2012-06-28   10  2012-06-28 10  \n1567437           1814 2012-06-21   18  2012-06-21 18  \n...                ...        ...  ...            ...  \n1872185           1502 2015-11-28   15  2015-11-28 15  \n1872229           1711 2015-12-29   17  2015-12-29 17  \n1872237           1440 2015-11-04   14  2015-11-04 14  \n1872244           0314 2015-10-13   03  2015-10-13 03  \n1872247           1646 2015-12-09   16  2015-12-09 16  \n\n[3722 rows x 14 columns]\n"
    }
   ],
   "source": [
    "df = df[df['FIPS_NAME'].isin(common_cities)]\n",
    "print(df)"
   ]
  },
  {
   "cell_type": "code",
   "execution_count": 336,
   "metadata": {},
   "outputs": [],
   "source": [
    "columns = ['time', 'humidity', 'pressure', 'temperature', 'weather', 'wind direction', 'wind speed']\n",
    "df_weatherdata = pd.DataFrame()\n",
    "for city in common_cities:\n",
    "    newdf = pd.DataFrame(pd.concat([df_humidity['datetime'], df_humidity[city], df_pressure[city], df_temp[city], df_weather[city], df_wind_direction[city], df_wind_speed[city]], axis=1, keys=columns))\n",
    "    newdf['city'] = city\n",
    "    df_weatherdata = df_weatherdata.append(newdf, ignore_index=True)"
   ]
  },
  {
   "cell_type": "code",
   "execution_count": 337,
   "metadata": {},
   "outputs": [
    {
     "name": "stdout",
     "output_type": "stream",
     "text": "0         2012-10-01 13\n1         2012-10-01 14\n2         2012-10-01 15\n3         2012-10-01 16\n4         2012-10-01 17\n              ...      \n362011    2017-11-29 20\n362012    2017-11-29 21\n362013    2017-11-29 22\n362014    2017-11-29 23\n362015    2017-11-30 00\nName: DATETIME, Length: 362016, dtype: object\n"
    }
   ],
   "source": [
    "df_weatherdata['DATE'] = df_weatherdata['time'].str[0:11]\n",
    "df_weatherdata['TIME'] = df_weatherdata['time'].str.split(\":\").str[0].str[11:]\n",
    "df_weatherdata['DATETIME'] = df_weatherdata['DATE'] + df_weatherdata['TIME']\n",
    "print(df_weatherdata['DATETIME'])"
   ]
  },
  {
   "cell_type": "code",
   "execution_count": 338,
   "metadata": {},
   "outputs": [
    {
     "name": "stdout",
     "output_type": "stream",
     "text": "0         2012-10-01 \n1         2012-10-01 \n2         2012-10-01 \n3         2012-10-01 \n4         2012-10-01 \n             ...     \n345234    2015-12-31 \n345235    2015-12-31 \n345236    2015-12-31 \n345237    2015-12-31 \n345238    2015-12-31 \nName: DATE, Length: 227800, dtype: object\n"
    }
   ],
   "source": [
    "df_weatherdata = df_weatherdata[~(df_weatherdata['DATE'].astype(str).str.contains('2016') | df_weatherdata['DATE'].astype(str).str.contains('2017'))]\n",
    "print(df_weatherdata['DATE'])"
   ]
  },
  {
   "cell_type": "code",
   "execution_count": 339,
   "metadata": {},
   "outputs": [
    {
     "name": "stdout",
     "output_type": "stream",
     "text": "0         2012-10-01 13 San Francisco\n1         2012-10-01 14 San Francisco\n2         2012-10-01 15 San Francisco\n3         2012-10-01 16 San Francisco\n4         2012-10-01 17 San Francisco\n                     ...             \n345234         2015-12-31 19 New York\n345235         2015-12-31 20 New York\n345236         2015-12-31 21 New York\n345237         2015-12-31 22 New York\n345238         2015-12-31 23 New York\nName: DATETIME_CITY, Length: 227800, dtype: object\n"
    }
   ],
   "source": [
    "df_weatherdata['DATETIME_CITY'] = df_weatherdata['DATETIME'] + ' ' + df_weatherdata['city']\n",
    "print(df_weatherdata['DATETIME_CITY'])"
   ]
  },
  {
   "cell_type": "code",
   "execution_count": 340,
   "metadata": {},
   "outputs": [
    {
     "name": "stdout",
     "output_type": "stream",
     "text": "1567432    2012-06-26 10 Los Angeles\n1567433    2012-09-10 10 Los Angeles\n1567434    2012-11-05 13 Los Angeles\n1567436    2012-06-28 10 Los Angeles\n1567437    2012-06-21 18 Los Angeles\n                     ...            \n1872185      2015-11-28 15 San Diego\n1872229      2015-12-29 17 San Diego\n1872237    2015-11-04 14 Los Angeles\n1872244      2015-10-13 03 San Diego\n1872247      2015-12-09 16 San Diego\nName: DATETIME_CITY, Length: 3722, dtype: object\n"
    }
   ],
   "source": [
    "df['DATETIME_CITY'] = df['DATETIME'] + ' ' + df['FIPS_NAME']\n",
    "print(df['DATETIME_CITY'])"
   ]
  },
  {
   "cell_type": "code",
   "execution_count": 341,
   "metadata": {},
   "outputs": [
    {
     "name": "stdout",
     "output_type": "stream",
     "text": "false\n"
    }
   ],
   "source": [
    "if df_weatherdata['DATETIME'][0] in (df['DATETIME']):\n",
    "    print('true')\n",
    "else:\n",
    "    print('false')\n",
    "# print(df['DATETIME'])"
   ]
  },
  {
   "cell_type": "code",
   "execution_count": 342,
   "metadata": {},
   "outputs": [
    {
     "name": "stdout",
     "output_type": "stream",
     "text": "2013-08-03 10\n2012-11-05 13\n(array([1179]),)\n"
    }
   ],
   "source": [
    "print(df_weatherdata['DATETIME'][1+7340])\n",
    "print(df['DATETIME'].values[2])\n",
    "if df_weatherdata['DATETIME'][1+7340] in (df['DATETIME'].values):\n",
    "    print(np.where(df['DATETIME'].values == (df_weatherdata['DATETIME'][1+7340])))"
   ]
  },
  {
   "cell_type": "code",
   "execution_count": 343,
   "metadata": {},
   "outputs": [],
   "source": [
    "df_weatherdata['FIRE'] = False"
   ]
  },
  {
   "cell_type": "code",
   "execution_count": 344,
   "metadata": {},
   "outputs": [],
   "source": [
    "df_weatherdata['FIRE'][df_weatherdata.loc[df_weatherdata['DATETIME_CITY'].isin(df['DATETIME_CITY'].values)].index] = True"
   ]
  },
  {
   "cell_type": "code",
   "execution_count": 345,
   "metadata": {},
   "outputs": [],
   "source": [
    "df_weatherdata = df_weatherdata[df_weatherdata.columns.drop(['time', 'DATE', 'TIME', 'DATETIME'])]"
   ]
  },
  {
   "cell_type": "code",
   "execution_count": 346,
   "metadata": {},
   "outputs": [
    {
     "name": "stdout",
     "output_type": "stream",
     "text": "humidity  pressure  temperature               weather  wind direction  \\\n14176       69.0    1017.0   294.270000          sky is clear           271.0   \n14221        NaN    1014.0   292.180000                  haze           334.0   \n20087      100.0    1038.0   282.415000         broken clouds           219.0   \n21515       77.0    1030.0   289.181500       overcast clouds           288.0   \n24145       87.0    1012.0   289.090000                   fog           290.0   \n...          ...       ...          ...                   ...             ...   \n344254      45.0    1025.0   282.632909  heavy intensity rain           312.0   \n344487      60.0    1030.0   276.642214         broken clouds            25.0   \n344558      66.0    1011.0   281.390000      scattered clouds           270.0   \n344607      65.0    1039.0   280.294636          sky is clear            15.0   \n344995      53.0    1025.0   283.583269       overcast clouds           223.0   \n\n        wind speed           city                DATETIME_CITY  FIRE  \n14176          2.0  San Francisco  2014-05-15 05 San Francisco  True  \n14221          1.0  San Francisco  2014-05-17 02 San Francisco  True  \n20087          1.0  San Francisco  2015-01-16 12 San Francisco  True  \n21515          1.0  San Francisco  2015-03-17 00 San Francisco  True  \n24145          3.0  San Francisco  2015-07-04 14 San Francisco  True  \n...            ...            ...                          ...   ...  \n344254         4.0       New York       2015-11-20 23 New York  True  \n344487         6.0       New York       2015-11-30 16 New York  True  \n344558         5.0       New York       2015-12-03 15 New York  True  \n344607         1.0       New York       2015-12-05 16 New York  True  \n344995         4.0       New York       2015-12-21 20 New York  True  \n\n[1806 rows x 9 columns]\n"
    }
   ],
   "source": [
    "print(df_weatherdata.loc[df_weatherdata['FIRE']==True])"
   ]
  },
  {
   "cell_type": "code",
   "execution_count": null,
   "metadata": {},
   "outputs": [],
   "source": []
  }
 ]
}