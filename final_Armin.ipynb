{
 "cells": [
  {
   "cell_type": "code",
   "execution_count": 1,
   "metadata": {},
   "outputs": [],
   "source": [
    "import os\n",
    "import pandas as pd\n",
    "import numpy as np\n",
    "import sqlite3\n",
    "from sklearn.model_selection import KFold\n",
    "import matplotlib.pyplot as plt\n",
    "import matplotlib\n",
    "from sklearn.preprocessing import OneHotEncoder\n",
    "from sklearn.preprocessing import LabelBinarizer\n",
    "import seaborn as sns\n",
    "\n",
    "from sklearn import datasets \n",
    "from sklearn.feature_selection import RFE \n",
    "from sklearn.linear_model import LogisticRegression\n",
    "\n",
    "from sklearn.feature_selection import RFECV\n",
    "from sklearn.model_selection import StratifiedKFold\n",
    "\n",
    "from sklearn.linear_model import LogisticRegressionCV\n",
    "from sklearn.model_selection import GridSearchCV\n",
    "from sklearn.model_selection import StratifiedKFold\n",
    "\n",
    "from sklearn import preprocessing\n",
    "\n",
    "from sklearn.preprocessing import StandardScaler\n",
    "from sklearn.preprocessing import Binarizer"
   ]
  },
  {
   "cell_type": "code",
   "execution_count": 2,
   "metadata": {},
   "outputs": [],
   "source": [
    "# read fire data\n",
    "conn = sqlite3.connect('FPA_FOD_20170508.sqlite')\n",
    "df = pd.read_sql_query(\"SELECT FIRE_YEAR, STAT_CAUSE_DESCR, LATITUDE, LONGITUDE, STATE, COUNTY, FIPS_NAME, DISCOVERY_DATE, CONT_DATE, FIRE_SIZE, DISCOVERY_DOY, DISCOVERY_TIME FROM 'Fires'\", conn)\n",
    "df['DATE'] = pd.to_datetime(df['DISCOVERY_DATE'] - pd.Timestamp(0).to_julian_date(), unit='D')\n",
    "df['END_DATE'] = pd.to_datetime(df['CONT_DATE'] - pd.Timestamp(0).to_julian_date(), unit='D')\n",
    "#df.head(5)"
   ]
  },
  {
   "cell_type": "code",
   "execution_count": 3,
   "metadata": {},
   "outputs": [],
   "source": [
    "# Extract and reformat DATETIME for easy lookup for fire data\n",
    "df['TIME'] = df['DISCOVERY_TIME'].str[0:2]\n",
    "df['DATETIME'] = df['DATE'].dt.strftime('%Y-%m-%d') + ' ' +  df['TIME']\n",
    "#df"
   ]
  },
  {
   "cell_type": "code",
   "execution_count": 4,
   "metadata": {},
   "outputs": [],
   "source": [
    "# Prune years not in range 2012-2015 for fire data\n",
    "df = df[df['FIRE_YEAR'] >= 2012]\n",
    "#df"
   ]
  },
  {
   "cell_type": "code",
   "execution_count": 5,
   "metadata": {},
   "outputs": [],
   "source": [
    "# Read in Weather Data\n",
    "# df_fire = pd.read_csv('California_Fire_Incidents.csv')\n",
    "df_humidity = pd.read_csv('humidity.csv')\n",
    "df_pressure = pd.read_csv('pressure.csv')\n",
    "df_temp = pd.read_csv('temperature.csv')\n",
    "df_weather = pd.read_csv('weather_description.csv')\n",
    "df_wind_direction = pd.read_csv('wind_direction.csv')\n",
    "df_wind_speed = pd.read_csv('wind_speed.csv')\n",
    "df_city_attributes = pd.read_csv('city_attributes.csv')"
   ]
  },
  {
   "cell_type": "code",
   "execution_count": 6,
   "metadata": {},
   "outputs": [],
   "source": [
    "# Prune Irrelevant Cities\n",
    "cities = df_humidity.columns.drop(['Jerusalem', 'Haifa', 'Eilat', 'Tel Aviv District', 'Beersheba', 'Nahariyya'])\n",
    "df_humidity = df_humidity[cities]\n",
    "df_pressure = df_pressure[cities]\n",
    "df_temp = df_temp[cities]\n",
    "df_weather = df_weather[cities]\n",
    "df_wind_direction = df_wind_direction[cities]\n",
    "df_wind_speed = df_wind_speed[cities]\n",
    "# df_city_attributes = df_city_attributes[cities]"
   ]
  },
  {
   "cell_type": "code",
   "execution_count": 7,
   "metadata": {},
   "outputs": [],
   "source": [
    "# Find all cities common between forest fire data and weather data\n",
    "common_cities = []\n",
    "for city in cities:\n",
    "    if(len(df.loc[df['FIPS_NAME']==city]) != 0):\n",
    "        common_cities.append(city)"
   ]
  },
  {
   "cell_type": "code",
   "execution_count": 8,
   "metadata": {},
   "outputs": [],
   "source": [
    "# Prune all cities not common between forest fire data and weather data\n",
    "df = df[df['FIPS_NAME'].isin(common_cities)]\n",
    "#df"
   ]
  },
  {
   "cell_type": "code",
   "execution_count": 9,
   "metadata": {},
   "outputs": [],
   "source": [
    "# Combine and Restructure all weather dataframes into one DataFrame and append a city column\n",
    "columns = ['time', 'humidity', 'pressure', 'temperature', 'weather', 'wind direction', 'wind speed']\n",
    "df_weatherdata = pd.DataFrame()\n",
    "for city in common_cities:\n",
    "    newdf = pd.DataFrame(pd.concat([df_humidity['datetime'], df_humidity[city], df_pressure[city], df_temp[city], df_weather[city], df_wind_direction[city], df_wind_speed[city]], axis=1, keys=columns))\n",
    "    newdf['city'] = city\n",
    "    df_weatherdata = df_weatherdata.append(newdf, ignore_index=True)\n",
    "#df_weatherdata"
   ]
  },
  {
   "cell_type": "code",
   "execution_count": 10,
   "metadata": {},
   "outputs": [],
   "source": [
    "# Combine Date and Time for Easy Lookup\n",
    "df_weatherdata['DATE'] = df_weatherdata['time'].str[0:11]\n",
    "df_weatherdata['TIME'] = df_weatherdata['time'].str.split(\":\").str[0].str[11:]\n",
    "df_weatherdata['DATETIME'] = df_weatherdata['DATE'] + df_weatherdata['TIME']\n",
    "#print(df_weatherdata['DATETIME'])"
   ]
  },
  {
   "cell_type": "code",
   "execution_count": 11,
   "metadata": {},
   "outputs": [],
   "source": [
    "# Prune years that arent between 2012-2015\n",
    "df_weatherdata = df_weatherdata[~(df_weatherdata['DATE'].astype(str).str.contains('2016') | df_weatherdata['DATE'].astype(str).str.contains('2017'))]\n",
    "#df_weatherdata['DATE']"
   ]
  },
  {
   "cell_type": "code",
   "execution_count": 12,
   "metadata": {},
   "outputs": [],
   "source": [
    "# Combine DATETIME and Cities for easy lookup for weather data\n",
    "df_weatherdata['DATETIME_CITY'] = df_weatherdata['DATETIME'] + ' ' + df_weatherdata['city']\n",
    "#print(df_weatherdata['DATETIME_CITY'])"
   ]
  },
  {
   "cell_type": "code",
   "execution_count": 13,
   "metadata": {},
   "outputs": [],
   "source": [
    "# Combine DATETIME and Cities for easy lookup for forest fire data\n",
    "df['DATETIME_CITY'] = df['DATETIME'].astype(str) + ' ' + df['FIPS_NAME']\n",
    "#print(df['DATETIME_CITY'])"
   ]
  },
  {
   "cell_type": "code",
   "execution_count": 14,
   "metadata": {},
   "outputs": [],
   "source": [
    "df_weatherdata['FIRE_DAYS'] = False"
   ]
  },
  {
   "cell_type": "code",
   "execution_count": 15,
   "metadata": {},
   "outputs": [],
   "source": [
    "df_weatherdata['FIRE'] = False"
   ]
  },
  {
   "cell_type": "code",
   "execution_count": 16,
   "metadata": {},
   "outputs": [
    {
     "name": "stderr",
     "output_type": "stream",
     "text": [
      "/opt/anaconda3/lib/python3.7/site-packages/ipykernel_launcher.py:2: SettingWithCopyWarning: \n",
      "A value is trying to be set on a copy of a slice from a DataFrame\n",
      "\n",
      "See the caveats in the documentation: https://pandas.pydata.org/pandas-docs/stable/user_guide/indexing.html#returning-a-view-versus-a-copy\n",
      "  \n"
     ]
    }
   ],
   "source": [
    "# Create a Fire column to track which datetimes in which cities had fires occur\n",
    "df_weatherdata['FIRE'][df_weatherdata.loc[df_weatherdata['DATETIME_CITY'].isin(df['DATETIME_CITY'].values)].index] = True\n",
    "df_weatherdata = df_weatherdata[df_weatherdata.columns.drop(['time', 'DATE', 'TIME', 'DATETIME_CITY'])]\n",
    "#print(df_weatherdata.loc[df_weatherdata['FIRE']==True])"
   ]
  },
  {
   "cell_type": "markdown",
   "metadata": {},
   "source": [
    "The above warning is fine, I double checked the data and it actually changes. So that's cool"
   ]
  },
  {
   "cell_type": "markdown",
   "metadata": {},
   "source": [
    "#### Armin Pre-Processing to hopefully make everything work"
   ]
  },
  {
   "cell_type": "code",
   "execution_count": 17,
   "metadata": {},
   "outputs": [
    {
     "data": {
      "text/html": [
       "<div>\n",
       "<style scoped>\n",
       "    .dataframe tbody tr th:only-of-type {\n",
       "        vertical-align: middle;\n",
       "    }\n",
       "\n",
       "    .dataframe tbody tr th {\n",
       "        vertical-align: top;\n",
       "    }\n",
       "\n",
       "    .dataframe thead th {\n",
       "        text-align: right;\n",
       "    }\n",
       "</style>\n",
       "<table border=\"1\" class=\"dataframe\">\n",
       "  <thead>\n",
       "    <tr style=\"text-align: right;\">\n",
       "      <th></th>\n",
       "      <th>humidity</th>\n",
       "      <th>pressure</th>\n",
       "      <th>temperature</th>\n",
       "      <th>weather</th>\n",
       "      <th>wind direction</th>\n",
       "      <th>wind speed</th>\n",
       "      <th>city</th>\n",
       "      <th>DATETIME</th>\n",
       "      <th>FIRE_DAYS</th>\n",
       "      <th>FIRE</th>\n",
       "    </tr>\n",
       "  </thead>\n",
       "  <tbody>\n",
       "    <tr>\n",
       "      <th>0</th>\n",
       "      <td>NaN</td>\n",
       "      <td>NaN</td>\n",
       "      <td>NaN</td>\n",
       "      <td>NaN</td>\n",
       "      <td>NaN</td>\n",
       "      <td>NaN</td>\n",
       "      <td>San Francisco</td>\n",
       "      <td>2012-10-01 12</td>\n",
       "      <td>False</td>\n",
       "      <td>False</td>\n",
       "    </tr>\n",
       "    <tr>\n",
       "      <th>1</th>\n",
       "      <td>88.0</td>\n",
       "      <td>1009.0</td>\n",
       "      <td>289.480000</td>\n",
       "      <td>light rain</td>\n",
       "      <td>150.0</td>\n",
       "      <td>2.0</td>\n",
       "      <td>San Francisco</td>\n",
       "      <td>2012-10-01 13</td>\n",
       "      <td>False</td>\n",
       "      <td>False</td>\n",
       "    </tr>\n",
       "    <tr>\n",
       "      <th>2</th>\n",
       "      <td>87.0</td>\n",
       "      <td>1009.0</td>\n",
       "      <td>289.474993</td>\n",
       "      <td>sky is clear</td>\n",
       "      <td>147.0</td>\n",
       "      <td>2.0</td>\n",
       "      <td>San Francisco</td>\n",
       "      <td>2012-10-01 14</td>\n",
       "      <td>False</td>\n",
       "      <td>False</td>\n",
       "    </tr>\n",
       "    <tr>\n",
       "      <th>3</th>\n",
       "      <td>86.0</td>\n",
       "      <td>1009.0</td>\n",
       "      <td>289.460618</td>\n",
       "      <td>sky is clear</td>\n",
       "      <td>141.0</td>\n",
       "      <td>2.0</td>\n",
       "      <td>San Francisco</td>\n",
       "      <td>2012-10-01 15</td>\n",
       "      <td>False</td>\n",
       "      <td>False</td>\n",
       "    </tr>\n",
       "    <tr>\n",
       "      <th>4</th>\n",
       "      <td>85.0</td>\n",
       "      <td>1009.0</td>\n",
       "      <td>289.446243</td>\n",
       "      <td>sky is clear</td>\n",
       "      <td>135.0</td>\n",
       "      <td>2.0</td>\n",
       "      <td>San Francisco</td>\n",
       "      <td>2012-10-01 16</td>\n",
       "      <td>False</td>\n",
       "      <td>False</td>\n",
       "    </tr>\n",
       "    <tr>\n",
       "      <th>...</th>\n",
       "      <td>...</td>\n",
       "      <td>...</td>\n",
       "      <td>...</td>\n",
       "      <td>...</td>\n",
       "      <td>...</td>\n",
       "      <td>...</td>\n",
       "      <td>...</td>\n",
       "      <td>...</td>\n",
       "      <td>...</td>\n",
       "      <td>...</td>\n",
       "    </tr>\n",
       "    <tr>\n",
       "      <th>345242</th>\n",
       "      <td>66.0</td>\n",
       "      <td>1017.0</td>\n",
       "      <td>281.210000</td>\n",
       "      <td>overcast clouds</td>\n",
       "      <td>290.0</td>\n",
       "      <td>6.0</td>\n",
       "      <td>New York</td>\n",
       "      <td>2015-12-31 19</td>\n",
       "      <td>False</td>\n",
       "      <td>False</td>\n",
       "    </tr>\n",
       "    <tr>\n",
       "      <th>345243</th>\n",
       "      <td>66.0</td>\n",
       "      <td>1017.0</td>\n",
       "      <td>281.220000</td>\n",
       "      <td>overcast clouds</td>\n",
       "      <td>310.0</td>\n",
       "      <td>5.0</td>\n",
       "      <td>New York</td>\n",
       "      <td>2015-12-31 20</td>\n",
       "      <td>False</td>\n",
       "      <td>False</td>\n",
       "    </tr>\n",
       "    <tr>\n",
       "      <th>345244</th>\n",
       "      <td>64.0</td>\n",
       "      <td>1017.0</td>\n",
       "      <td>281.026831</td>\n",
       "      <td>overcast clouds</td>\n",
       "      <td>307.0</td>\n",
       "      <td>5.0</td>\n",
       "      <td>New York</td>\n",
       "      <td>2015-12-31 21</td>\n",
       "      <td>False</td>\n",
       "      <td>False</td>\n",
       "    </tr>\n",
       "    <tr>\n",
       "      <th>345245</th>\n",
       "      <td>61.0</td>\n",
       "      <td>1018.0</td>\n",
       "      <td>280.360000</td>\n",
       "      <td>overcast clouds</td>\n",
       "      <td>300.0</td>\n",
       "      <td>5.0</td>\n",
       "      <td>New York</td>\n",
       "      <td>2015-12-31 22</td>\n",
       "      <td>False</td>\n",
       "      <td>False</td>\n",
       "    </tr>\n",
       "    <tr>\n",
       "      <th>345246</th>\n",
       "      <td>73.0</td>\n",
       "      <td>1022.0</td>\n",
       "      <td>279.393851</td>\n",
       "      <td>moderate rain</td>\n",
       "      <td>299.0</td>\n",
       "      <td>4.0</td>\n",
       "      <td>New York</td>\n",
       "      <td>2015-12-31 23</td>\n",
       "      <td>False</td>\n",
       "      <td>False</td>\n",
       "    </tr>\n",
       "  </tbody>\n",
       "</table>\n",
       "<p>227808 rows × 10 columns</p>\n",
       "</div>"
      ],
      "text/plain": [
       "        humidity  pressure  temperature          weather  wind direction  \\\n",
       "0            NaN       NaN          NaN              NaN             NaN   \n",
       "1           88.0    1009.0   289.480000       light rain           150.0   \n",
       "2           87.0    1009.0   289.474993     sky is clear           147.0   \n",
       "3           86.0    1009.0   289.460618     sky is clear           141.0   \n",
       "4           85.0    1009.0   289.446243     sky is clear           135.0   \n",
       "...          ...       ...          ...              ...             ...   \n",
       "345242      66.0    1017.0   281.210000  overcast clouds           290.0   \n",
       "345243      66.0    1017.0   281.220000  overcast clouds           310.0   \n",
       "345244      64.0    1017.0   281.026831  overcast clouds           307.0   \n",
       "345245      61.0    1018.0   280.360000  overcast clouds           300.0   \n",
       "345246      73.0    1022.0   279.393851    moderate rain           299.0   \n",
       "\n",
       "        wind speed           city       DATETIME  FIRE_DAYS   FIRE  \n",
       "0              NaN  San Francisco  2012-10-01 12      False  False  \n",
       "1              2.0  San Francisco  2012-10-01 13      False  False  \n",
       "2              2.0  San Francisco  2012-10-01 14      False  False  \n",
       "3              2.0  San Francisco  2012-10-01 15      False  False  \n",
       "4              2.0  San Francisco  2012-10-01 16      False  False  \n",
       "...            ...            ...            ...        ...    ...  \n",
       "345242         6.0       New York  2015-12-31 19      False  False  \n",
       "345243         5.0       New York  2015-12-31 20      False  False  \n",
       "345244         5.0       New York  2015-12-31 21      False  False  \n",
       "345245         5.0       New York  2015-12-31 22      False  False  \n",
       "345246         4.0       New York  2015-12-31 23      False  False  \n",
       "\n",
       "[227808 rows x 10 columns]"
      ]
     },
     "execution_count": 17,
     "metadata": {},
     "output_type": "execute_result"
    }
   ],
   "source": [
    "df_weatherdata"
   ]
  },
  {
   "cell_type": "code",
   "execution_count": 18,
   "metadata": {},
   "outputs": [
    {
     "data": {
      "text/plain": [
       "Index(['humidity', 'pressure', 'temperature', 'weather', 'wind direction',\n",
       "       'wind speed', 'city', 'DATETIME', 'FIRE_DAYS', 'FIRE'],\n",
       "      dtype='object')"
      ]
     },
     "execution_count": 18,
     "metadata": {},
     "output_type": "execute_result"
    }
   ],
   "source": [
    "df_weatherdata.columns"
   ]
  },
  {
   "cell_type": "code",
   "execution_count": 19,
   "metadata": {},
   "outputs": [
    {
     "data": {
      "text/plain": [
       "(227800, 10)"
      ]
     },
     "execution_count": 19,
     "metadata": {},
     "output_type": "execute_result"
    }
   ],
   "source": [
    "# before continuing drop any row that contains NaN values in more than one column\n",
    "df_weatherdata.dropna(subset=['humidity', 'pressure', 'temperature'], how='all', inplace=True)\n",
    "df_weatherdata.shape"
   ]
  },
  {
   "cell_type": "code",
   "execution_count": 20,
   "metadata": {},
   "outputs": [],
   "source": [
    "# Want to get rid of DATETIME, FIRE_DAYS, and FIRE for now\n",
    "df_holder = pd.concat([df_weatherdata.pop(x) for x in ['DATETIME', 'FIRE_DAYS', 'FIRE']], axis=1)"
   ]
  },
  {
   "cell_type": "code",
   "execution_count": 21,
   "metadata": {},
   "outputs": [
    {
     "data": {
      "text/html": [
       "<div>\n",
       "<style scoped>\n",
       "    .dataframe tbody tr th:only-of-type {\n",
       "        vertical-align: middle;\n",
       "    }\n",
       "\n",
       "    .dataframe tbody tr th {\n",
       "        vertical-align: top;\n",
       "    }\n",
       "\n",
       "    .dataframe thead th {\n",
       "        text-align: right;\n",
       "    }\n",
       "</style>\n",
       "<table border=\"1\" class=\"dataframe\">\n",
       "  <thead>\n",
       "    <tr style=\"text-align: right;\">\n",
       "      <th></th>\n",
       "      <th>DATETIME</th>\n",
       "      <th>FIRE_DAYS</th>\n",
       "      <th>FIRE</th>\n",
       "    </tr>\n",
       "  </thead>\n",
       "  <tbody>\n",
       "    <tr>\n",
       "      <th>1</th>\n",
       "      <td>2012-10-01 13</td>\n",
       "      <td>False</td>\n",
       "      <td>False</td>\n",
       "    </tr>\n",
       "    <tr>\n",
       "      <th>2</th>\n",
       "      <td>2012-10-01 14</td>\n",
       "      <td>False</td>\n",
       "      <td>False</td>\n",
       "    </tr>\n",
       "    <tr>\n",
       "      <th>3</th>\n",
       "      <td>2012-10-01 15</td>\n",
       "      <td>False</td>\n",
       "      <td>False</td>\n",
       "    </tr>\n",
       "    <tr>\n",
       "      <th>4</th>\n",
       "      <td>2012-10-01 16</td>\n",
       "      <td>False</td>\n",
       "      <td>False</td>\n",
       "    </tr>\n",
       "    <tr>\n",
       "      <th>5</th>\n",
       "      <td>2012-10-01 17</td>\n",
       "      <td>False</td>\n",
       "      <td>False</td>\n",
       "    </tr>\n",
       "    <tr>\n",
       "      <th>...</th>\n",
       "      <td>...</td>\n",
       "      <td>...</td>\n",
       "      <td>...</td>\n",
       "    </tr>\n",
       "    <tr>\n",
       "      <th>345242</th>\n",
       "      <td>2015-12-31 19</td>\n",
       "      <td>False</td>\n",
       "      <td>False</td>\n",
       "    </tr>\n",
       "    <tr>\n",
       "      <th>345243</th>\n",
       "      <td>2015-12-31 20</td>\n",
       "      <td>False</td>\n",
       "      <td>False</td>\n",
       "    </tr>\n",
       "    <tr>\n",
       "      <th>345244</th>\n",
       "      <td>2015-12-31 21</td>\n",
       "      <td>False</td>\n",
       "      <td>False</td>\n",
       "    </tr>\n",
       "    <tr>\n",
       "      <th>345245</th>\n",
       "      <td>2015-12-31 22</td>\n",
       "      <td>False</td>\n",
       "      <td>False</td>\n",
       "    </tr>\n",
       "    <tr>\n",
       "      <th>345246</th>\n",
       "      <td>2015-12-31 23</td>\n",
       "      <td>False</td>\n",
       "      <td>False</td>\n",
       "    </tr>\n",
       "  </tbody>\n",
       "</table>\n",
       "<p>227800 rows × 3 columns</p>\n",
       "</div>"
      ],
      "text/plain": [
       "             DATETIME  FIRE_DAYS   FIRE\n",
       "1       2012-10-01 13      False  False\n",
       "2       2012-10-01 14      False  False\n",
       "3       2012-10-01 15      False  False\n",
       "4       2012-10-01 16      False  False\n",
       "5       2012-10-01 17      False  False\n",
       "...               ...        ...    ...\n",
       "345242  2015-12-31 19      False  False\n",
       "345243  2015-12-31 20      False  False\n",
       "345244  2015-12-31 21      False  False\n",
       "345245  2015-12-31 22      False  False\n",
       "345246  2015-12-31 23      False  False\n",
       "\n",
       "[227800 rows x 3 columns]"
      ]
     },
     "execution_count": 21,
     "metadata": {},
     "output_type": "execute_result"
    }
   ],
   "source": [
    "df_holder"
   ]
  },
  {
   "cell_type": "code",
   "execution_count": 22,
   "metadata": {},
   "outputs": [
    {
     "data": {
      "text/plain": [
       "Index(['humidity', 'pressure', 'temperature', 'weather', 'wind direction',\n",
       "       'wind speed', 'city'],\n",
       "      dtype='object')"
      ]
     },
     "execution_count": 22,
     "metadata": {},
     "output_type": "execute_result"
    }
   ],
   "source": [
    "df_weatherdata.columns"
   ]
  },
  {
   "cell_type": "markdown",
   "metadata": {},
   "source": [
    "#### Label Encode City and Weather"
   ]
  },
  {
   "cell_type": "code",
   "execution_count": 23,
   "metadata": {},
   "outputs": [],
   "source": [
    "# Start Label Encoding weather and city\n",
    "from sklearn.preprocessing import LabelEncoder\n",
    "le = LabelEncoder()\n",
    "df_weatherdata['weather'] = le.fit_transform(df_weatherdata['weather'].astype(str))\n",
    "df_weatherdata['city'] = le.fit_transform(df_weatherdata['city'].astype(str))"
   ]
  },
  {
   "cell_type": "code",
   "execution_count": 24,
   "metadata": {},
   "outputs": [
    {
     "data": {
      "text/plain": [
       "1         12\n",
       "2         24\n",
       "3         24\n",
       "4         24\n",
       "5         24\n",
       "          ..\n",
       "345242    17\n",
       "345243    17\n",
       "345244    17\n",
       "345245    17\n",
       "345246    16\n",
       "Name: weather, Length: 227800, dtype: int64"
      ]
     },
     "execution_count": 24,
     "metadata": {},
     "output_type": "execute_result"
    }
   ],
   "source": [
    "# Sanity Check\n",
    "df_weatherdata['weather']"
   ]
  },
  {
   "cell_type": "markdown",
   "metadata": {},
   "source": [
    "#### Impute NaN values"
   ]
  },
  {
   "cell_type": "code",
   "execution_count": 25,
   "metadata": {},
   "outputs": [],
   "source": [
    "# Function to assist with Imputing\n",
    "from sklearn.experimental import enable_iterative_imputer # required to use IterativeImputer\n",
    "from sklearn.impute import IterativeImputer # filling nan\n",
    "\n",
    "# function that will fill in the NaN values using MICE imputation method\n",
    "def mvImp(df_incomplete):\n",
    "    # fill the na values with 9999\n",
    "    df_incomplete = df_incomplete.fillna(9999)\n",
    "    # create an object of type IterativeImputer from the sklearn class\n",
    "    imputer = IterativeImputer(missing_values = 9999, max_iter=30, random_state=0,\n",
    "                 add_indicator=False, estimator=None,\n",
    "                 imputation_order='ascending', initial_strategy='mean', \n",
    "                 max_value=None, min_value=None, \n",
    "                 n_nearest_features=None,\n",
    "                 tol=0.001, verbose=0)\n",
    "    # fit the object on our incomplete data\n",
    "    imputer.fit(df_incomplete)\n",
    "    # transform the data and store into a new variable\n",
    "    imputedData = imputer.transform(df_incomplete)\n",
    "\n",
    "    return imputedData"
   ]
  },
  {
   "cell_type": "code",
   "execution_count": 26,
   "metadata": {},
   "outputs": [],
   "source": [
    "# Impute NaN values in df_weatherdata\n",
    "df_weatherdata = mvImp(df_weatherdata)"
   ]
  },
  {
   "cell_type": "code",
   "execution_count": 27,
   "metadata": {},
   "outputs": [],
   "source": [
    "# Convert df_weather data back into pandas dataframe\n",
    "df_weatherdata = pd.DataFrame(df_weatherdata,columns=['humidity', 'pressure', 'temperature', 'weather', \n",
    "                                                      'wind direction', 'wind speed', 'city'])"
   ]
  },
  {
   "cell_type": "code",
   "execution_count": 28,
   "metadata": {},
   "outputs": [],
   "source": [
    "df_weatherdata = pd.concat([df_weatherdata.reset_index(drop=True),df_holder.reset_index(drop=True)], axis=1)"
   ]
  },
  {
   "cell_type": "code",
   "execution_count": 29,
   "metadata": {},
   "outputs": [
    {
     "data": {
      "text/html": [
       "<div>\n",
       "<style scoped>\n",
       "    .dataframe tbody tr th:only-of-type {\n",
       "        vertical-align: middle;\n",
       "    }\n",
       "\n",
       "    .dataframe tbody tr th {\n",
       "        vertical-align: top;\n",
       "    }\n",
       "\n",
       "    .dataframe thead th {\n",
       "        text-align: right;\n",
       "    }\n",
       "</style>\n",
       "<table border=\"1\" class=\"dataframe\">\n",
       "  <thead>\n",
       "    <tr style=\"text-align: right;\">\n",
       "      <th></th>\n",
       "      <th>humidity</th>\n",
       "      <th>pressure</th>\n",
       "      <th>temperature</th>\n",
       "      <th>weather</th>\n",
       "      <th>wind direction</th>\n",
       "      <th>wind speed</th>\n",
       "      <th>city</th>\n",
       "      <th>DATETIME</th>\n",
       "      <th>FIRE_DAYS</th>\n",
       "      <th>FIRE</th>\n",
       "    </tr>\n",
       "  </thead>\n",
       "  <tbody>\n",
       "    <tr>\n",
       "      <th>0</th>\n",
       "      <td>88.0</td>\n",
       "      <td>1009.0</td>\n",
       "      <td>289.480000</td>\n",
       "      <td>12.0</td>\n",
       "      <td>150.0</td>\n",
       "      <td>2.0</td>\n",
       "      <td>7.0</td>\n",
       "      <td>2012-10-01 13</td>\n",
       "      <td>False</td>\n",
       "      <td>False</td>\n",
       "    </tr>\n",
       "    <tr>\n",
       "      <th>1</th>\n",
       "      <td>87.0</td>\n",
       "      <td>1009.0</td>\n",
       "      <td>289.474993</td>\n",
       "      <td>24.0</td>\n",
       "      <td>147.0</td>\n",
       "      <td>2.0</td>\n",
       "      <td>7.0</td>\n",
       "      <td>2012-10-01 14</td>\n",
       "      <td>False</td>\n",
       "      <td>False</td>\n",
       "    </tr>\n",
       "    <tr>\n",
       "      <th>2</th>\n",
       "      <td>86.0</td>\n",
       "      <td>1009.0</td>\n",
       "      <td>289.460618</td>\n",
       "      <td>24.0</td>\n",
       "      <td>141.0</td>\n",
       "      <td>2.0</td>\n",
       "      <td>7.0</td>\n",
       "      <td>2012-10-01 15</td>\n",
       "      <td>False</td>\n",
       "      <td>False</td>\n",
       "    </tr>\n",
       "    <tr>\n",
       "      <th>3</th>\n",
       "      <td>85.0</td>\n",
       "      <td>1009.0</td>\n",
       "      <td>289.446243</td>\n",
       "      <td>24.0</td>\n",
       "      <td>135.0</td>\n",
       "      <td>2.0</td>\n",
       "      <td>7.0</td>\n",
       "      <td>2012-10-01 16</td>\n",
       "      <td>False</td>\n",
       "      <td>False</td>\n",
       "    </tr>\n",
       "    <tr>\n",
       "      <th>4</th>\n",
       "      <td>84.0</td>\n",
       "      <td>1009.0</td>\n",
       "      <td>289.431869</td>\n",
       "      <td>24.0</td>\n",
       "      <td>129.0</td>\n",
       "      <td>2.0</td>\n",
       "      <td>7.0</td>\n",
       "      <td>2012-10-01 17</td>\n",
       "      <td>False</td>\n",
       "      <td>False</td>\n",
       "    </tr>\n",
       "    <tr>\n",
       "      <th>...</th>\n",
       "      <td>...</td>\n",
       "      <td>...</td>\n",
       "      <td>...</td>\n",
       "      <td>...</td>\n",
       "      <td>...</td>\n",
       "      <td>...</td>\n",
       "      <td>...</td>\n",
       "      <td>...</td>\n",
       "      <td>...</td>\n",
       "      <td>...</td>\n",
       "    </tr>\n",
       "    <tr>\n",
       "      <th>227795</th>\n",
       "      <td>66.0</td>\n",
       "      <td>1017.0</td>\n",
       "      <td>281.210000</td>\n",
       "      <td>17.0</td>\n",
       "      <td>290.0</td>\n",
       "      <td>6.0</td>\n",
       "      <td>5.0</td>\n",
       "      <td>2015-12-31 19</td>\n",
       "      <td>False</td>\n",
       "      <td>False</td>\n",
       "    </tr>\n",
       "    <tr>\n",
       "      <th>227796</th>\n",
       "      <td>66.0</td>\n",
       "      <td>1017.0</td>\n",
       "      <td>281.220000</td>\n",
       "      <td>17.0</td>\n",
       "      <td>310.0</td>\n",
       "      <td>5.0</td>\n",
       "      <td>5.0</td>\n",
       "      <td>2015-12-31 20</td>\n",
       "      <td>False</td>\n",
       "      <td>False</td>\n",
       "    </tr>\n",
       "    <tr>\n",
       "      <th>227797</th>\n",
       "      <td>64.0</td>\n",
       "      <td>1017.0</td>\n",
       "      <td>281.026831</td>\n",
       "      <td>17.0</td>\n",
       "      <td>307.0</td>\n",
       "      <td>5.0</td>\n",
       "      <td>5.0</td>\n",
       "      <td>2015-12-31 21</td>\n",
       "      <td>False</td>\n",
       "      <td>False</td>\n",
       "    </tr>\n",
       "    <tr>\n",
       "      <th>227798</th>\n",
       "      <td>61.0</td>\n",
       "      <td>1018.0</td>\n",
       "      <td>280.360000</td>\n",
       "      <td>17.0</td>\n",
       "      <td>300.0</td>\n",
       "      <td>5.0</td>\n",
       "      <td>5.0</td>\n",
       "      <td>2015-12-31 22</td>\n",
       "      <td>False</td>\n",
       "      <td>False</td>\n",
       "    </tr>\n",
       "    <tr>\n",
       "      <th>227799</th>\n",
       "      <td>73.0</td>\n",
       "      <td>1022.0</td>\n",
       "      <td>279.393851</td>\n",
       "      <td>16.0</td>\n",
       "      <td>299.0</td>\n",
       "      <td>4.0</td>\n",
       "      <td>5.0</td>\n",
       "      <td>2015-12-31 23</td>\n",
       "      <td>False</td>\n",
       "      <td>False</td>\n",
       "    </tr>\n",
       "  </tbody>\n",
       "</table>\n",
       "<p>227800 rows × 10 columns</p>\n",
       "</div>"
      ],
      "text/plain": [
       "        humidity  pressure  temperature  weather  wind direction  wind speed  \\\n",
       "0           88.0    1009.0   289.480000     12.0           150.0         2.0   \n",
       "1           87.0    1009.0   289.474993     24.0           147.0         2.0   \n",
       "2           86.0    1009.0   289.460618     24.0           141.0         2.0   \n",
       "3           85.0    1009.0   289.446243     24.0           135.0         2.0   \n",
       "4           84.0    1009.0   289.431869     24.0           129.0         2.0   \n",
       "...          ...       ...          ...      ...             ...         ...   \n",
       "227795      66.0    1017.0   281.210000     17.0           290.0         6.0   \n",
       "227796      66.0    1017.0   281.220000     17.0           310.0         5.0   \n",
       "227797      64.0    1017.0   281.026831     17.0           307.0         5.0   \n",
       "227798      61.0    1018.0   280.360000     17.0           300.0         5.0   \n",
       "227799      73.0    1022.0   279.393851     16.0           299.0         4.0   \n",
       "\n",
       "        city       DATETIME  FIRE_DAYS   FIRE  \n",
       "0        7.0  2012-10-01 13      False  False  \n",
       "1        7.0  2012-10-01 14      False  False  \n",
       "2        7.0  2012-10-01 15      False  False  \n",
       "3        7.0  2012-10-01 16      False  False  \n",
       "4        7.0  2012-10-01 17      False  False  \n",
       "...      ...            ...        ...    ...  \n",
       "227795   5.0  2015-12-31 19      False  False  \n",
       "227796   5.0  2015-12-31 20      False  False  \n",
       "227797   5.0  2015-12-31 21      False  False  \n",
       "227798   5.0  2015-12-31 22      False  False  \n",
       "227799   5.0  2015-12-31 23      False  False  \n",
       "\n",
       "[227800 rows x 10 columns]"
      ]
     },
     "execution_count": 29,
     "metadata": {},
     "output_type": "execute_result"
    }
   ],
   "source": [
    "df_weatherdata"
   ]
  },
  {
   "cell_type": "code",
   "execution_count": 30,
   "metadata": {},
   "outputs": [],
   "source": [
    "df_weatherdata['HOUR'] = df_weatherdata['DATETIME'].str[11:]\n",
    "df_weatherdata['DAY'] = df_weatherdata['DATETIME'].str[8:10]\n",
    "df_weatherdata['MONTH'] = df_weatherdata['DATETIME'].str[5:7]\n",
    "df_weatherdata['YEAR'] = df_weatherdata['DATETIME'].str[0:4]\n",
    "\n",
    "# Can drop the DATETIME column as we are encoding it in a way to get more information\n",
    "del df_weatherdata['DATETIME']"
   ]
  },
  {
   "cell_type": "code",
   "execution_count": 31,
   "metadata": {},
   "outputs": [
    {
     "data": {
      "text/plain": [
       "Index(['humidity', 'pressure', 'temperature', 'weather', 'wind direction',\n",
       "       'wind speed', 'city', 'FIRE_DAYS', 'FIRE', 'HOUR', 'DAY', 'MONTH',\n",
       "       'YEAR'],\n",
       "      dtype='object')"
      ]
     },
     "execution_count": 31,
     "metadata": {},
     "output_type": "execute_result"
    }
   ],
   "source": [
    "df_weatherdata.columns"
   ]
  },
  {
   "cell_type": "code",
   "execution_count": 32,
   "metadata": {},
   "outputs": [],
   "source": [
    "# Moving up the DATETIME Encoding to make Feature Importance easier\n",
    "df_weatherdata['HOUR_SIN'] = np.sin(df_weatherdata['HOUR'].astype(float)*(2.*np.pi/24))\n",
    "df_weatherdata['HOUR_COS'] = np.cos(df_weatherdata['HOUR'].astype(float)*(2.*np.pi/24))\n",
    "df_weatherdata['DAY_SIN'] = np.sin(df_weatherdata['DAY'].astype(float)*(2.*np.pi/30))\n",
    "df_weatherdata['DAY_COS'] = np.cos(df_weatherdata['DAY'].astype(float)*(2.*np.pi/30))\n",
    "df_weatherdata['MONTH_SIN'] = np.sin(df_weatherdata['MONTH'].astype(float)*(2.*np.pi/12))\n",
    "df_weatherdata['MONTH_COS'] = np.cos(df_weatherdata['MONTH'].astype(float)*(2.*np.pi/12))"
   ]
  },
  {
   "cell_type": "code",
   "execution_count": 33,
   "metadata": {},
   "outputs": [
    {
     "data": {
      "text/plain": [
       "Index(['humidity', 'pressure', 'temperature', 'weather', 'wind direction',\n",
       "       'wind speed', 'city', 'FIRE_DAYS', 'FIRE', 'HOUR', 'DAY', 'MONTH',\n",
       "       'YEAR', 'HOUR_SIN', 'HOUR_COS', 'DAY_SIN', 'DAY_COS', 'MONTH_SIN',\n",
       "       'MONTH_COS'],\n",
       "      dtype='object')"
      ]
     },
     "execution_count": 33,
     "metadata": {},
     "output_type": "execute_result"
    }
   ],
   "source": [
    "df_weatherdata.columns"
   ]
  },
  {
   "cell_type": "markdown",
   "metadata": {},
   "source": [
    "#### Some quick methods to look at feature importance:\n",
    " - Random Forest Feature Importance \n",
    " - Correlation Matrix"
   ]
  },
  {
   "cell_type": "code",
   "execution_count": 34,
   "metadata": {},
   "outputs": [],
   "source": [
    "# Feature Importance functions\n",
    "\n",
    "from sklearn.ensemble import RandomForestClassifier # feature importance\n",
    "\n",
    "# Function for Random Forest Feature Importance\n",
    "def rf_feature_importance(dataFrame):\n",
    "    names = dataFrame.columns\n",
    "    df_copy = dataFrame.copy()\n",
    "    Y = df_copy.pop('FIRE')\n",
    "    X = df_copy\n",
    "    \n",
    "    rf = RandomForestClassifier()\n",
    "    rf.fit(X, Y)\n",
    "    \n",
    "    print(sorted(zip(map(lambda x: round(x, 4), rf.feature_importances_), names), reverse=True))\n",
    "    \n",
    "# Function to calculate Pearson correlation heatmap\n",
    "def pearson_feature_importance(dataFrame, threshold):\n",
    "    plt.figure(figsize=(12,10))\n",
    "    cor = dataFrame.corr()\n",
    "    sns.heatmap(cor, annot=True, cmap=plt.cm.Reds)\n",
    "    plt.show()\n",
    "    \n",
    "    cor_target = abs(cor['FIRE'])\n",
    "    relevant_features = cor_target[cor_target > threshold]\n",
    "    print(relevant_features)"
   ]
  },
  {
   "cell_type": "code",
   "execution_count": 35,
   "metadata": {},
   "outputs": [
    {
     "data": {
      "text/plain": [
       "Index(['humidity', 'pressure', 'temperature', 'weather', 'wind direction',\n",
       "       'wind speed', 'city', 'FIRE_DAYS', 'FIRE', 'HOUR', 'DAY', 'MONTH',\n",
       "       'YEAR', 'HOUR_SIN', 'HOUR_COS', 'DAY_SIN', 'DAY_COS', 'MONTH_SIN',\n",
       "       'MONTH_COS'],\n",
       "      dtype='object')"
      ]
     },
     "execution_count": 35,
     "metadata": {},
     "output_type": "execute_result"
    }
   ],
   "source": [
    "df_weatherdata.columns"
   ]
  },
  {
   "cell_type": "code",
   "execution_count": 36,
   "metadata": {},
   "outputs": [
    {
     "name": "stdout",
     "output_type": "stream",
     "text": [
      "[(0.1582, 'temperature'), (0.111, 'wind direction'), (0.109, 'humidity'), (0.0891, 'pressure'), (0.064, 'HOUR'), (0.0583, 'DAY_SIN'), (0.0559, 'HOUR_COS'), (0.0447, 'FIRE'), (0.0424, 'YEAR'), (0.042, 'HOUR_SIN'), (0.0409, 'weather'), (0.0382, 'wind speed'), (0.0368, 'city'), (0.0292, 'DAY'), (0.0286, 'DAY_COS'), (0.0263, 'MONTH'), (0.0255, 'MONTH_SIN'), (0.0, 'FIRE_DAYS')]\n"
     ]
    }
   ],
   "source": [
    "# Random Forest\n",
    "rf_feature_importance(df_weatherdata)"
   ]
  },
  {
   "cell_type": "code",
   "execution_count": 37,
   "metadata": {},
   "outputs": [
    {
     "data": {
      "image/png": "[encoded data removed]",
      "text/plain": [
       "<Figure size 864x720 with 2 Axes>"
      ]
     },
     "metadata": {
      "needs_background": "light"
     },
     "output_type": "display_data"
    },
    {
     "name": "stdout",
     "output_type": "stream",
     "text": [
      "FIRE        1.000000\n",
      "HOUR_COS    0.057882\n",
      "Name: FIRE, dtype: float64\n"
     ]
    }
   ],
   "source": [
    "# Pearson Correlation\n",
    "pearson_feature_importance(df_weatherdata, threshold=0.05)"
   ]
  },
  {
   "cell_type": "markdown",
   "metadata": {},
   "source": [
    "<br>"
   ]
  },
  {
   "cell_type": "markdown",
   "metadata": {},
   "source": [
    "<br>"
   ]
  },
  {
   "cell_type": "markdown",
   "metadata": {},
   "source": [
    "# PART 2"
   ]
  },
  {
   "cell_type": "code",
   "execution_count": 38,
   "metadata": {},
   "outputs": [],
   "source": [
    "X = df_weatherdata[df_weatherdata.columns.drop(['FIRE', 'FIRE_DAYS'])]\n",
    "y = df_weatherdata['FIRE']"
   ]
  },
  {
   "cell_type": "code",
   "execution_count": 39,
   "metadata": {},
   "outputs": [],
   "source": [
    "# Easier to label encode y from here\n",
    "y = le.fit_transform(y)"
   ]
  },
  {
   "cell_type": "code",
   "execution_count": 40,
   "metadata": {},
   "outputs": [],
   "source": [
    "from sklearn.model_selection import train_test_split\n",
    "X_train, X_test, y_train, y_test = train_test_split(X, y, test_size=0.33, random_state=42)"
   ]
  },
  {
   "cell_type": "code",
   "execution_count": 41,
   "metadata": {},
   "outputs": [],
   "source": [
    "# Standardize\n",
    "scaler = StandardScaler()\n",
    "X_train = scaler.fit_transform(X_train)\n",
    "X_test = scaler.fit_transform(X_test)"
   ]
  },
  {
   "cell_type": "code",
   "execution_count": 42,
   "metadata": {},
   "outputs": [
    {
     "data": {
      "text/plain": [
       "array([[ 0.33599853, -1.36452165,  0.28250528, ...,  0.41439979,\n",
       "         1.30456295, -0.78228429],\n",
       "       [-1.30316738, -1.47691587,  1.20354232, ...,  1.35560703,\n",
       "         0.77804012, -1.29405949],\n",
       "       [ 0.54089427,  0.77096851,  1.50582544, ..., -1.30527141,\n",
       "        -1.37969058, -0.08318637],\n",
       "       ...,\n",
       "       [-1.25194345,  1.22054539,  1.00218176, ..., -0.16729827,\n",
       "        -1.18696984,  0.61591156],\n",
       "       [-0.22746475, -0.4653679 , -0.4396715 , ...,  0.41439979,\n",
       "         1.30456295, -0.78228429],\n",
       "       [ 0.4384464 , -1.13973321,  1.00584497, ...,  1.26473687,\n",
       "        -1.37969058, -0.08318637]])"
      ]
     },
     "execution_count": 42,
     "metadata": {},
     "output_type": "execute_result"
    }
   ],
   "source": [
    "X_train"
   ]
  },
  {
   "cell_type": "markdown",
   "metadata": {},
   "source": [
    "#### Oversampling"
   ]
  },
  {
   "cell_type": "code",
   "execution_count": 43,
   "metadata": {},
   "outputs": [],
   "source": [
    "from imblearn.over_sampling import SMOTE, ADASYN\n",
    "\n",
    "X_resampled, y_resampled = SMOTE().fit_sample(X_train, y_train)"
   ]
  },
  {
   "cell_type": "markdown",
   "metadata": {},
   "source": [
    "#### Undersampling"
   ]
  },
  {
   "cell_type": "code",
   "execution_count": 44,
   "metadata": {},
   "outputs": [],
   "source": [
    "from imblearn.under_sampling import RandomUnderSampler\n",
    "\n",
    "rus = RandomUnderSampler(random_state=0)\n",
    "X_undersampled , y_undersampled = rus.fit_resample(X_train, y_train)"
   ]
  },
  {
   "cell_type": "code",
   "execution_count": 45,
   "metadata": {},
   "outputs": [
    {
     "data": {
      "text/html": [
       "<div>\n",
       "<style scoped>\n",
       "    .dataframe tbody tr th:only-of-type {\n",
       "        vertical-align: middle;\n",
       "    }\n",
       "\n",
       "    .dataframe tbody tr th {\n",
       "        vertical-align: top;\n",
       "    }\n",
       "\n",
       "    .dataframe thead th {\n",
       "        text-align: right;\n",
       "    }\n",
       "</style>\n",
       "<table border=\"1\" class=\"dataframe\">\n",
       "  <thead>\n",
       "    <tr style=\"text-align: right;\">\n",
       "      <th>col_0</th>\n",
       "      <th>count</th>\n",
       "    </tr>\n",
       "    <tr>\n",
       "      <th>row_0</th>\n",
       "      <th></th>\n",
       "    </tr>\n",
       "  </thead>\n",
       "  <tbody>\n",
       "    <tr>\n",
       "      <th>0</th>\n",
       "      <td>151397</td>\n",
       "    </tr>\n",
       "    <tr>\n",
       "      <th>1</th>\n",
       "      <td>151397</td>\n",
       "    </tr>\n",
       "  </tbody>\n",
       "</table>\n",
       "</div>"
      ],
      "text/plain": [
       "col_0   count\n",
       "row_0        \n",
       "0      151397\n",
       "1      151397"
      ]
     },
     "execution_count": 45,
     "metadata": {},
     "output_type": "execute_result"
    }
   ],
   "source": [
    "pd.crosstab(index=y_resampled, columns='count')"
   ]
  },
  {
   "cell_type": "code",
   "execution_count": 46,
   "metadata": {},
   "outputs": [],
   "source": [
    "def fiveCVLogisticRegression(xtrain, ytrain, C_grid):\n",
    "    scores_train = np.zeros(len(C_grid))\n",
    "    scores_test = np.zeros(len(C_grid))\n",
    "    for i in range(5):\n",
    "        print('Run ', i+1)\n",
    "        kfold = StratifiedKFold(n_splits=5, shuffle=True)\n",
    "        \n",
    "        model = LogisticRegression(penalty='l2')\n",
    "\n",
    "        grid = {\"C\":C_grid, \"penalty\":[\"l2\"]} # l2 ridge\n",
    "        logreg = LogisticRegression()\n",
    "        logreg_cv = GridSearchCV(logreg, grid, cv=kfold, return_train_score=True)\n",
    "        logreg_cv.fit(xtrain, ytrain)\n",
    "\n",
    "        # View the accuracy score\n",
    "        # print('Best score for training data:', logreg_cv.best_score_,\"\\n\") \n",
    "\n",
    "        # View the best parameters for the model found using grid search\n",
    "        print('Best lambda:', 1.0/logreg_cv.best_estimator_.C,\"\\n\") \n",
    "\n",
    "\n",
    "        # print(\"Training set score for logreg_cv: \",  logreg_cv.cv_results_['mean_train_score'])\n",
    "        # print(\"Testing  set score for logreg_cv: \", logreg_cv.cv_results_['mean_test_score'])\n",
    "\n",
    "        scores_train += logreg_cv.cv_results_['mean_train_score']\n",
    "        scores_test += logreg_cv.cv_results_['mean_test_score']\n",
    "\n",
    "    scores_train = scores_train/5\n",
    "    scores_test = scores_test/5\n",
    "   \n",
    "\n",
    "    print('avg train score: ', scores_train)\n",
    "    print('avg test score: ', scores_test)\n",
    "    return scores_train, scores_test"
   ]
  },
  {
   "cell_type": "code",
   "execution_count": 90,
   "metadata": {},
   "outputs": [
    {
     "name": "stdout",
     "output_type": "stream",
     "text": [
      "Run  1\n",
      "Best lambda: 10.0 \n",
      "\n",
      "Run  2\n",
      "Best lambda: 10.0 \n",
      "\n",
      "Run  3\n",
      "Best lambda: 100.0 \n",
      "\n",
      "Run  4\n",
      "Best lambda: 1.0 \n",
      "\n",
      "Run  5\n",
      "Best lambda: 1.0 \n",
      "\n",
      "avg train score:  [0.74240639 0.74252462 0.74254411 0.74254609 0.74254691 0.74254625\n",
      " 0.74254625 0.74254642]\n",
      "avg test score:  [0.74238129 0.74251141 0.74252528 0.7425233  0.7425233  0.7425233\n",
      " 0.7425233  0.7425233 ]\n"
     ]
    }
   ],
   "source": [
    "C_grid = [1e-3, 1e-2, 1e-1, 1, 1e1, 50.0, 1e2, 1e3]\n",
    "scores_train_std, scores_test_std = fiveCVLogisticRegression(X_resampled, y_resampled, C_grid)"
   ]
  },
  {
   "cell_type": "code",
   "execution_count": 107,
   "metadata": {},
   "outputs": [],
   "source": [
    "def CVLogisticRegression(xtrain, ytrain, xtest, ytest, _lambda):\n",
    "    model = LogisticRegression(penalty='l2', C=1/_lambda)\n",
    "    model.fit(xtrain, ytrain)\n",
    "\n",
    "    train_score = 1 - model.score(xtrain, ytrain)\n",
    "    test_score = 1 - model.score(xtest, ytest)\n",
    "\n",
    "\n",
    "    return train_score, test_score"
   ]
  },
  {
   "cell_type": "code",
   "execution_count": 108,
   "metadata": {},
   "outputs": [],
   "source": [
    "avg_train_error, avg_test_error = CVLogisticRegression(X_resampled, y_resampled, X_test, y_test, 100)"
   ]
  },
  {
   "cell_type": "code",
   "execution_count": 109,
   "metadata": {},
   "outputs": [],
   "source": [
    "table = {'Method': ['std'], \n",
    "        #  'lambda': [best_lambda_std, best_lambda_log, best_lambda_bin], \n",
    "        #  'Avg Val Error': [avg_val_error_std, avg_val_error_log, avg_val_error_bin], \n",
    "         'Train Error': [avg_train_error], \n",
    "        'Test Error': [avg_test_error]}\n",
    "df_table = pd.DataFrame(table)"
   ]
  },
  {
   "cell_type": "code",
   "execution_count": 110,
   "metadata": {},
   "outputs": [
    {
     "data": {
      "text/html": [
       "<div>\n",
       "<style scoped>\n",
       "    .dataframe tbody tr th:only-of-type {\n",
       "        vertical-align: middle;\n",
       "    }\n",
       "\n",
       "    .dataframe tbody tr th {\n",
       "        vertical-align: top;\n",
       "    }\n",
       "\n",
       "    .dataframe thead th {\n",
       "        text-align: right;\n",
       "    }\n",
       "</style>\n",
       "<table border=\"1\" class=\"dataframe\">\n",
       "  <thead>\n",
       "    <tr style=\"text-align: right;\">\n",
       "      <th></th>\n",
       "      <th>Method</th>\n",
       "      <th>Train Error</th>\n",
       "      <th>Test Error</th>\n",
       "    </tr>\n",
       "  </thead>\n",
       "  <tbody>\n",
       "    <tr>\n",
       "      <th>0</th>\n",
       "      <td>std</td>\n",
       "      <td>0.257472</td>\n",
       "      <td>0.319046</td>\n",
       "    </tr>\n",
       "  </tbody>\n",
       "</table>\n",
       "</div>"
      ],
      "text/plain": [
       "  Method  Train Error  Test Error\n",
       "0    std     0.257472    0.319046"
      ]
     },
     "execution_count": 110,
     "metadata": {},
     "output_type": "execute_result"
    }
   ],
   "source": [
    "df_table"
   ]
  },
  {
   "cell_type": "markdown",
   "metadata": {},
   "source": [
    "## Testing Out AdaBoost and RandomForest Variations"
   ]
  },
  {
   "cell_type": "code",
   "execution_count": 48,
   "metadata": {},
   "outputs": [],
   "source": [
    "from sklearn.ensemble import AdaBoostClassifier\n",
    "from sklearn.ensemble import RandomForestClassifier\n",
    "from sklearn.svm import SVC"
   ]
  },
  {
   "cell_type": "code",
   "execution_count": 59,
   "metadata": {},
   "outputs": [],
   "source": [
    "# Best AdaBoost\n",
    "adaBoost = AdaBoostClassifier(learning_rate=0.8, n_estimators=300)\n",
    "randomForest = RandomForestClassifier(n_estimators=400, max_depth=20)"
   ]
  },
  {
   "cell_type": "code",
   "execution_count": 49,
   "metadata": {},
   "outputs": [
    {
     "data": {
      "text/plain": [
       "AdaBoostClassifier(learning_rate=0.8, n_estimators=300)"
      ]
     },
     "execution_count": 49,
     "metadata": {},
     "output_type": "execute_result"
    }
   ],
   "source": [
    "# fit adaboost\n",
    "adaBoost.fit(X_undersampled, y_undersampled)\n",
    "print(f'AdaBoost test score: {adaBoost.score(X_test, y_test)}')"
   ]
  },
  {
   "cell_type": "code",
   "execution_count": 60,
   "metadata": {},
   "outputs": [
    {
     "name": "stdout",
     "output_type": "stream",
     "text": [
      "RandomForest test score: 0.5504695772474526\n"
     ]
    }
   ],
   "source": [
    "# fit randomforest\n",
    "randomForest.fit(X_resampled, y_resampled)\n",
    "print(f'RandomForest test score: {randomForest.score(X_test, y_test)}')"
   ]
  },
  {
   "cell_type": "markdown",
   "metadata": {},
   "source": [
    "<br>"
   ]
  },
  {
   "cell_type": "code",
   "execution_count": 47,
   "metadata": {},
   "outputs": [],
   "source": [
    "# Function that uses 5 kFold CV to find best features from input grid\n",
    "def fiveCVBestParameters(X_train, y_train, X_test, y_test, input_grid, model):\n",
    "    kfold = StratifiedKFold(n_splits=5, shuffle=True)\n",
    "    \n",
    "    grid_cv = GridSearchCV(model, input_grid, cv=kfold, return_train_score=True)\n",
    "\n",
    "    grid_cv.fit(X_train, y_train)\n",
    "\n",
    "    print(f'Best Parameters: {grid_cv.best_params_}')\n",
    "    print(f'Best Score: {grid_cv.best_score_}')\n",
    "    print(f'Best Model Test Score: {grid_cv.best_estimator_.score(X_test, y_test)} \\n')"
   ]
  },
  {
   "cell_type": "code",
   "execution_count": 49,
   "metadata": {},
   "outputs": [
    {
     "name": "stdout",
     "output_type": "stream",
     "text": [
      "Finding best parameters for AdaBoost...\n",
      "Best Parameters: {'learning_rate': 0.5, 'n_estimators': 80}\n",
      "Best Score: 0.7725729803122879\n",
      "Best Model Test Score: 0.7150078484582435 \n",
      "\n",
      "Finding best parameters for RandomForest...\n",
      "Best Parameters: {'max_depth': None, 'n_estimators': 500}\n",
      "Best Score: 0.7799033000513305\n",
      "Best Model Test Score: 0.7127065208715779 \n",
      "\n",
      "Finding best parameters for SupportVectorMachine...\n",
      "Best Parameters: {'C': 1, 'gamma': 0.1}\n",
      "Best Score: 0.7380044044839633\n",
      "Best Model Test Score: 0.6846383057972171 \n",
      "\n"
     ]
    }
   ],
   "source": [
    "# Construct Grids to use to search for features\n",
    "adaboost_grid = {'n_estimators': [50, 80, 100, 200, 300],\n",
    "                 'learning_rate':[0.01, 0.1, 0.5, 0.8]}\n",
    "randomforest_grid = {'n_estimators':[100, 200, 400, 500, 1000, 2000],\n",
    "                      'max_depth': [20, 40, 60, 80, 100, None]}\n",
    "svm_grid = {'gamma':[1,0.1,0.001,0.0001],\n",
    "            'C': [1, 10, 100, 1000]}\n",
    "\n",
    "# AdaBoost\n",
    "adaBoost = AdaBoostClassifier()\n",
    "print('Finding best parameters for AdaBoost...')\n",
    "fiveCVBestParameters(X_undersampled, y_undersampled, X_test, y_test, adaboost_grid, adaBoost)\n",
    "\n",
    "# RandomForest\n",
    "randomForest = RandomForestClassifier()\n",
    "print('Finding best parameters for RandomForest...')\n",
    "fiveCVBestParameters(X_undersampled, y_undersampled, X_test, y_test, randomforest_grid, randomForest)\n",
    "\n",
    "# Support Vector Machine\n",
    "svm = SVC()\n",
    "print('Finding best parameters for SupportVectorMachine...')\n",
    "fiveCVBestParameters(X_undersampled, y_undersampled, X_test, y_test, svm_grid, svm)"
   ]
  },
  {
   "cell_type": "markdown",
   "metadata": {},
   "source": [
    "### Keep Testing"
   ]
  },
  {
   "cell_type": "code",
   "execution_count": null,
   "metadata": {},
   "outputs": [],
   "source": []
  }
 ],
 "metadata": {
  "file_extension": ".py",
  "kernelspec": {
   "display_name": "Python 3",
   "language": "python",
   "name": "python3"
  },
  "language_info": {
   "codemirror_mode": {
    "name": "ipython",
    "version": 3
   },
   "file_extension": ".py",
   "mimetype": "text/x-python",
   "name": "python",
   "nbconvert_exporter": "python",
   "pygments_lexer": "ipython3",
   "version": "3.7.4"
  },
  "mimetype": "text/x-python",
  "name": "python",
  "npconvert_exporter": "python",
  "pygments_lexer": "ipython3",
  "version": 3
 },
 "nbformat": 4,
 "nbformat_minor": 2
}
